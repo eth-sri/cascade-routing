{
 "cells": [
  {
   "cell_type": "markdown",
   "metadata": {},
   "source": [
    "## Routerbench"
   ]
  },
  {
   "cell_type": "code",
   "execution_count": 1,
   "metadata": {},
   "outputs": [
    {
     "name": "stderr",
     "output_type": "stream",
     "text": [
      "/local/home/jdekoninck/miniconda3/envs/selection/lib/python3.11/site-packages/tqdm/auto.py:21: TqdmWarning: IProgress not found. Please update jupyter and ipywidgets. See https://ipywidgets.readthedocs.io/en/stable/user_install.html\n",
      "  from .autonotebook import tqdm as notebook_tqdm\n"
     ]
    }
   ],
   "source": [
    "from selection import auc_all\n",
    "import numpy as np\n",
    "from tqdm import tqdm\n",
    "def bootstrap_normal(qualities_all, costs_all, baseline_qualities, baseline_costs, n_samples=500):\n",
    "    np.random.seed(0)\n",
    "    auc_values = []\n",
    "    for _ in tqdm(range(n_samples)):\n",
    "        indices = np.random.choice(range(len(qualities_all[0])), len(qualities_all[0]), replace=True)\n",
    "        qualities = [np.mean(np.array(quality_index)[indices]) for quality_index in qualities_all]\n",
    "        costs = [np.mean(np.array(cost_index)[indices]) for cost_index in costs_all]\n",
    "        auc_values.append(auc_all(qualities, costs, baseline_qualities, baseline_costs)['auc'])\n",
    "    return auc_values, np.mean(auc_values),np.array([1.96 * np.nanstd(auc_values), np.nanmean(auc_values) - np.percentile(auc_values, 97.5), np.nanmean(auc_values) - np.percentile(auc_values, 2.5)])\n",
    "\n",
    "def bootstrap_diff(qualities_all, costs_all, qualities_all_2, costs_all_2, baseline_qualities, baseline_costs, n_samples=500):\n",
    "    np.random.seed(0)\n",
    "    auc_values = []\n",
    "    for _ in tqdm(range(n_samples)):\n",
    "        indices = np.random.choice(range(len(qualities_all[0])), len(qualities_all[0]), replace=True)\n",
    "        qualities = [np.nanmean(np.array(quality_index)[indices]) for quality_index in qualities_all]\n",
    "        costs = [np.nanmean(np.array(cost_index)[indices]) for cost_index in costs_all]\n",
    "        qualities_2 = [np.nanmean(np.array(quality_index)[indices]) for quality_index in qualities_all_2]\n",
    "        costs_2 = [np.nanmean(np.array(cost_index)[indices]) for cost_index in costs_all_2]\n",
    "        auc1 = auc_all(qualities, costs, baseline_qualities, baseline_costs)['auc']\n",
    "        auc2 = auc_all(qualities_2, costs_2, baseline_qualities, baseline_costs)['auc']\n",
    "        auc_values.append(auc1 - auc2)\n",
    "    return auc_values, np.nanmean(auc_values), np.array([1.96 * np.nanstd(auc_values), np.nanmean(auc_values) - np.percentile(auc_values, 97.5), np.nanmean(auc_values) - np.percentile(auc_values, 2.5)])"
   ]
  },
  {
   "cell_type": "code",
   "execution_count": 2,
   "metadata": {},
   "outputs": [],
   "source": [
    "from sklearn.model_selection import train_test_split\n",
    "from selection import remove_redundant_models\n",
    "import pandas as pd\n",
    "import json\n",
    "\n",
    "def load_data(shot):\n",
    "    data = pd.read_csv(f'../data/routerbench_{shot}shot.csv')\n",
    "    model_names = data.columns[3:14]\n",
    "    qualities = data[model_names]\n",
    "    cost_names = [model_name + '|total_cost' for model_name in model_names]\n",
    "    costs = data[cost_names]\n",
    "    # change column names\n",
    "    costs.columns = model_names\n",
    "    train_qualities, test_qualities, train_costs, test_costs = train_test_split(\n",
    "                                qualities, costs, test_size=0.95, random_state=42                           \n",
    "    )\n",
    "    test_qualities_averaged = test_qualities.mean(axis=0)\n",
    "    test_costs_averaged = test_costs.mean(axis=0)\n",
    "    return test_qualities_averaged, test_costs_averaged, model_names, test_qualities, test_costs\n",
    "\n",
    "def extract_results(files, base_path):\n",
    "    all_results = {\n",
    "        'linear': [],\n",
    "        'routing': [],\n",
    "        'cascading': [],\n",
    "        'cascading_ours': [],\n",
    "        'cascade_routing': []\n",
    "    }\n",
    "    for strategy in files:\n",
    "        with open(base_path + strategy, 'r') as file:\n",
    "            results = json.load(file)\n",
    "            all_results['linear'].append(results['aucs_baseline']['auc'] * 100)\n",
    "            all_results['routing'].append(results['aucs_router']['auc'] * 100)\n",
    "            all_results['cascading'].append(results['aucs_cascade']['auc'] * 100)\n",
    "            if 'aucs_cascade_ours' in results:\n",
    "                all_results['cascading_ours'].append(results['aucs_cascade_ours']['auc'] * 100)\n",
    "            else:\n",
    "                all_results['cascading_ours'].append(0)\n",
    "            all_results['cascade_routing'].append(results['aucs']['auc'] * 100)\n",
    "\n",
    "    df = pd.DataFrame(all_results).T\n",
    "    return df\n",
    "\n",
    "def extract_results_bootstrap(files, base_path, test_qualities_averaged, test_costs_averaged, model_names, test_qualities, test_costs):\n",
    "    all_results = {\n",
    "        'linear': [],\n",
    "        'routing': [],\n",
    "        'cascading': [],\n",
    "        'cascading_ours': [],\n",
    "        'cascade_routing': []\n",
    "    }\n",
    "\n",
    "    for strategy in files:\n",
    "        if \"_\" in strategy:\n",
    "            split = [int(i) for i in strategy.split(\"_\")[0].split(',')]\n",
    "        else:\n",
    "            split = [int(i) for i in strategy.split(\".\")[0].split(',')]\n",
    "        baseline_costs_here = np.array(test_costs_averaged.iloc[split])\n",
    "        baseline_qualities_here = np.array(test_qualities_averaged.iloc[split])\n",
    "        with open(base_path + strategy, 'r') as file:\n",
    "            results = json.load(file)\n",
    "            _, _, indices = remove_redundant_models(baseline_qualities_here, baseline_costs_here)\n",
    "            kept_names = [model_names[split[i]] for i in indices]\n",
    "            linear_qualities = np.array(test_qualities[kept_names]).T\n",
    "            linear_costs = np.array(test_costs[kept_names]).T\n",
    "            mapping = {\n",
    "                \"linear\": (linear_qualities, linear_costs),\n",
    "                \"routing\": (results['router_test']['quality_all'], results['router_test']['cost_all']),\n",
    "                \"cascading\": (results['cascade_test']['quality_all'], results['cascade_test']['cost_all']),\n",
    "                \"cascading_ours\": (results['cascade_test_ours']['quality_all'], results['cascade_test_ours']['cost_all']),\n",
    "                \"cascade_routing\": (results['test']['quality_all'], results['test']['cost_all'])\n",
    "            }\n",
    "            for key in mapping:\n",
    "                if \"cascade_routing\" != key:\n",
    "                    bootstrap = bootstrap_diff(mapping[key][0], mapping[key][1],\n",
    "                                                results['test']['quality_all'], results['test']['cost_all'],\n",
    "                                                baseline_qualities_here, baseline_costs_here)\n",
    "                else:\n",
    "                    bootstrap = bootstrap_normal(mapping[key][0], mapping[key][1],\n",
    "                                        baseline_qualities_here, baseline_costs_here)\n",
    "                all_results[key].append(f\"${round(bootstrap[1] * 100, 2):2f}^{{+{round(bootstrap[2][2] * 100, 2):2f}}}_{{{round(bootstrap[2][1] * 100, 2):2f}}}$\")\n",
    "\n",
    "    df = pd.DataFrame(all_results).T\n",
    "    return df\n",
    "\n",
    "def routerbench_main(shot=\"0\"):\n",
    "    test_qualities_averaged, test_costs_averaged, model_names, test_qualities, test_costs = load_data(shot)\n",
    "    files = [\n",
    "            f'9,4,5_low_{shot}shot.json',\n",
    "            f'9,4,5_medium_{shot}shot.json',\n",
    "            f'9,4,5_high_{shot}shot.json',\n",
    "            f'0,9,4,3,5_low_{shot}shot.json',\n",
    "            f'0,9,4,3,5_medium_{shot}shot.json',\n",
    "            f'0,9,4,3,5_high_{shot}shot.json',\n",
    "            f'0,1,2,3,4,5,6,7,8,9,10_low_{shot}shot.json',\n",
    "            f'0,1,2,3,4,5,6,7,8,9,10_medium_{shot}shot.json',\n",
    "            f'0,1,2,3,4,5,6,7,8,9,10_high_{shot}shot.json'\n",
    "    ]\n",
    "\n",
    "    base_path = '../data/results/routerbench/'\n",
    "\n",
    "    df = extract_results(files, base_path)\n",
    "    # add avg column\n",
    "    # to latex\n",
    "    print(f\"Table 1 from our paper, {shot}-shot results\")\n",
    "    print(df.to_latex(index=False))\n",
    "\n",
    "\n",
    "    df = extract_results_bootstrap(files, base_path, test_qualities_averaged, test_costs_averaged, model_names, test_qualities, test_costs)\n",
    "    # add avg column\n",
    "    # to latex\n",
    "    print(\"Table 4 from our paper\")\n",
    "    print(df.to_latex(index=False))\n"
   ]
  },
  {
   "cell_type": "code",
   "execution_count": 3,
   "metadata": {},
   "outputs": [
    {
     "name": "stdout",
     "output_type": "stream",
     "text": [
      "Table 1 from our paper, 0-shot results\n",
      "\\begin{tabular}{rrrrrrrrr}\n",
      "\\toprule\n",
      "0 & 1 & 2 & 3 & 4 & 5 & 6 & 7 & 8 \\\\\n",
      "\\midrule\n",
      "69.619211 & 69.619211 & 69.619211 & 69.223137 & 69.223137 & 69.223137 & 70.506406 & 70.506406 & 70.506406 \\\\\n",
      "79.726787 & 74.965568 & 71.812637 & 81.235991 & 74.432665 & 71.328369 & 83.245409 & 74.632066 & 72.670410 \\\\\n",
      "80.863873 & 74.641304 & 72.475432 & 82.332691 & 73.029091 & 69.526597 & 84.480300 & 73.643526 & 69.788751 \\\\\n",
      "81.087637 & 76.163850 & 72.668429 & 83.057026 & 75.169221 & 70.179556 & 84.468958 & 75.095880 & 70.255078 \\\\\n",
      "82.364416 & 76.553922 & 73.216015 & 84.329598 & 76.313683 & 72.745103 & 87.243456 & 77.568917 & 74.404521 \\\\\n",
      "\\bottomrule\n",
      "\\end{tabular}\n",
      "\n"
     ]
    },
    {
     "name": "stderr",
     "output_type": "stream",
     "text": [
      "100%|██████████| 500/500 [00:33<00:00, 14.87it/s]\n",
      "100%|██████████| 500/500 [01:03<00:00,  7.92it/s]\n",
      "100%|██████████| 500/500 [01:03<00:00,  7.93it/s]\n",
      "100%|██████████| 500/500 [01:02<00:00,  7.94it/s]\n",
      "100%|██████████| 500/500 [00:31<00:00, 15.84it/s]\n",
      "100%|██████████| 500/500 [00:33<00:00, 15.01it/s]\n",
      "100%|██████████| 500/500 [01:03<00:00,  7.91it/s]\n",
      "100%|██████████| 500/500 [01:03<00:00,  7.93it/s]\n",
      "100%|██████████| 500/500 [01:03<00:00,  7.90it/s]\n",
      "100%|██████████| 500/500 [00:31<00:00, 15.88it/s]\n",
      "100%|██████████| 500/500 [00:33<00:00, 14.85it/s]\n",
      "100%|██████████| 500/500 [01:02<00:00,  7.94it/s]\n",
      "100%|██████████| 500/500 [01:03<00:00,  7.89it/s]\n",
      "100%|██████████| 500/500 [01:02<00:00,  7.94it/s]\n",
      "100%|██████████| 500/500 [00:31<00:00, 15.79it/s]\n",
      "100%|██████████| 500/500 [00:48<00:00, 10.22it/s]\n",
      "100%|██████████| 500/500 [01:33<00:00,  5.37it/s]\n",
      "100%|██████████| 500/500 [01:33<00:00,  5.35it/s]\n",
      "100%|██████████| 500/500 [01:32<00:00,  5.38it/s]\n",
      "100%|██████████| 500/500 [00:46<00:00, 10.83it/s]\n",
      "100%|██████████| 500/500 [00:48<00:00, 10.21it/s]\n",
      "100%|██████████| 500/500 [01:32<00:00,  5.38it/s]\n",
      "100%|██████████| 500/500 [01:32<00:00,  5.38it/s]\n",
      "100%|██████████| 500/500 [01:32<00:00,  5.38it/s]\n",
      "100%|██████████| 500/500 [00:46<00:00, 10.84it/s]\n",
      "100%|██████████| 500/500 [00:49<00:00, 10.14it/s]\n",
      "100%|██████████| 500/500 [01:33<00:00,  5.33it/s]\n",
      "100%|██████████| 500/500 [01:33<00:00,  5.33it/s]\n",
      "100%|██████████| 500/500 [01:34<00:00,  5.31it/s]\n",
      "100%|██████████| 500/500 [00:46<00:00, 10.69it/s]\n",
      "100%|██████████| 500/500 [00:49<00:00, 10.10it/s]\n",
      "100%|██████████| 500/500 [01:33<00:00,  5.34it/s]\n",
      "100%|██████████| 500/500 [01:33<00:00,  5.33it/s]\n",
      "100%|██████████| 500/500 [01:32<00:00,  5.38it/s]\n",
      "100%|██████████| 500/500 [00:46<00:00, 10.82it/s]\n",
      "100%|██████████| 500/500 [00:49<00:00, 10.16it/s]\n",
      "100%|██████████| 500/500 [01:33<00:00,  5.35it/s]\n",
      "100%|██████████| 500/500 [01:33<00:00,  5.36it/s]\n",
      "100%|██████████| 500/500 [01:32<00:00,  5.38it/s]\n",
      "100%|██████████| 500/500 [00:46<00:00, 10.82it/s]\n",
      "100%|██████████| 500/500 [00:49<00:00, 10.17it/s]\n",
      "100%|██████████| 500/500 [01:32<00:00,  5.41it/s]\n",
      "100%|██████████| 500/500 [01:33<00:00,  5.35it/s]\n",
      "100%|██████████| 500/500 [01:33<00:00,  5.37it/s]\n",
      "100%|██████████| 500/500 [00:46<00:00, 10.81it/s]\n"
     ]
    },
    {
     "name": "stdout",
     "output_type": "stream",
     "text": [
      "Table 4 from our paper\n",
      "\\begin{tabular}{lllllllll}\n",
      "\\toprule\n",
      "0 & 1 & 2 & 3 & 4 & 5 & 6 & 7 & 8 \\\\\n",
      "\\midrule\n",
      "$-12.740000^{+0.210000}_{-0.230000}$ & $-6.930000^{+0.180000}_{-0.200000}$ & $-3.590000^{+0.190000}_{-0.190000}$ & $-15.090000^{+0.260000}_{-0.270000}$ & $-7.080000^{+0.210000}_{-0.210000}$ & $-3.520000^{+0.210000}_{-0.210000}$ & $-16.730000^{+0.270000}_{-0.280000}$ & $-7.060000^{+0.230000}_{-0.220000}$ & $-3.900000^{+0.230000}_{-0.230000}$ \\\\\n",
      "$-2.640000^{+0.150000}_{-0.160000}$ & $-1.590000^{+0.130000}_{-0.150000}$ & $-1.400000^{+0.150000}_{-0.170000}$ & $-3.100000^{+0.170000}_{-0.150000}$ & $-1.880000^{+0.170000}_{-0.160000}$ & $-1.410000^{+0.170000}_{-0.170000}$ & $-4.000000^{+0.170000}_{-0.210000}$ & $-2.940000^{+0.200000}_{-0.210000}$ & $-1.730000^{+0.190000}_{-0.190000}$ \\\\\n",
      "$-1.500000^{+0.120000}_{-0.120000}$ & $-1.910000^{+0.180000}_{-0.190000}$ & $-0.740000^{+0.190000}_{-0.180000}$ & $-2.000000^{+0.170000}_{-0.150000}$ & $-3.290000^{+0.260000}_{-0.270000}$ & $-3.220000^{+0.240000}_{-0.240000}$ & $-2.760000^{+0.140000}_{-0.140000}$ & $-3.920000^{+0.280000}_{-0.280000}$ & $-4.610000^{+0.280000}_{-0.280000}$ \\\\\n",
      "$-1.280000^{+0.120000}_{-0.110000}$ & $-0.390000^{+0.150000}_{-0.140000}$ & $-0.540000^{+0.180000}_{-0.170000}$ & $-1.270000^{+0.100000}_{-0.110000}$ & $-1.140000^{+0.200000}_{-0.210000}$ & $-2.570000^{+0.210000}_{-0.260000}$ & $-2.770000^{+0.130000}_{-0.130000}$ & $-2.460000^{+0.220000}_{-0.240000}$ & $-4.140000^{+0.250000}_{-0.270000}$ \\\\\n",
      "$82.370000^{+0.310000}_{-0.320000}$ & $76.570000^{+0.340000}_{-0.350000}$ & $73.230000^{+0.370000}_{-0.380000}$ & $84.330000^{+0.290000}_{-0.290000}$ & $76.320000^{+0.340000}_{-0.370000}$ & $72.750000^{+0.360000}_{-0.400000}$ & $87.240000^{+0.230000}_{-0.260000}$ & $77.580000^{+0.300000}_{-0.330000}$ & $74.410000^{+0.330000}_{-0.360000}$ \\\\\n",
      "\\bottomrule\n",
      "\\end{tabular}\n",
      "\n"
     ]
    }
   ],
   "source": [
    "routerbench_main(\"0\")"
   ]
  },
  {
   "cell_type": "code",
   "execution_count": 4,
   "metadata": {},
   "outputs": [
    {
     "name": "stderr",
     "output_type": "stream",
     "text": [
      "100%|██████████| 1/1 [00:01<00:00,  1.86s/it]\n",
      "100%|██████████| 2/2 [00:03<00:00,  1.61s/it]]\n",
      "100%|██████████| 3/3 [00:04<00:00,  1.63s/it]]\n",
      "100%|██████████| 4/4 [00:06<00:00,  1.61s/it]]\n",
      "100%|██████████| 5/5 [00:08<00:00,  1.61s/it]]\n",
      "100%|██████████| 6/6 [00:09<00:00,  1.61s/it]]\n",
      "100%|██████████| 7/7 [00:11<00:00,  1.61s/it]]\n",
      "100%|██████████| 8/8 [00:12<00:00,  1.60s/it]]\n",
      "100%|██████████| 9/9 [00:14<00:00,  1.61s/it]]\n",
      "100%|██████████| 10/10 [00:15<00:00,  1.58s/it]\n",
      "100%|██████████| 11/11 [00:17<00:00,  1.58s/it]\n",
      "100%|██████████| 12/12 [00:18<00:00,  1.57s/it]\n",
      "100%|██████████| 13/13 [00:20<00:00,  1.55s/it]\n",
      "100%|██████████| 14/14 [00:21<00:00,  1.55s/it]\n",
      "100%|██████████| 15/15 [00:23<00:00,  1.54s/it]\n",
      "100%|██████████| 16/16 [00:24<00:00,  1.53s/it]\n",
      "100%|██████████| 16/16 [03:34<00:00, 13.38s/it]\n"
     ]
    }
   ],
   "source": [
    "models = \"0,9,4,3,5\"\n",
    "strategy = \"low\"\n",
    "diff_sigma = 0.2\n",
    "min_sigma, max_sigma = 0, 3.0\n",
    "base_path = '../data/results/routerbench/'\n",
    "\n",
    "results_diff_routing = []\n",
    "results_diff_cascading = []\n",
    "results_diff_cascading_ours = []\n",
    "results_linear = []\n",
    "results_cascade_routing = []\n",
    "for sigma_before in tqdm(np.arange(min_sigma, max_sigma + diff_sigma / 2, diff_sigma)):\n",
    "    for sigma_after in tqdm(np.arange(min_sigma, sigma_before + diff_sigma / 2, diff_sigma)):\n",
    "        filename = f\"0,9,4,3,5_low_0shot_{round(sigma_before, 1)},{round(sigma_after, 1)},0.0002,5e-05_False.json\"\n",
    "        results = json.load(open(base_path + filename, 'r'))\n",
    "        results_diff_routing.append((sigma_before, sigma_after, results['aucs_router']['auc']))\n",
    "        results_diff_cascading_ours.append((sigma_before, sigma_after, results['aucs_cascade_ours']['auc']))\n",
    "        results_diff_cascading.append((sigma_before, sigma_after, results['aucs_cascade']['auc']))\n",
    "        results_linear.append((sigma_before, sigma_after, results['aucs_baseline']['auc']))\n",
    "        results_cascade_routing.append((sigma_before, sigma_after, results['aucs']['auc']))"
   ]
  },
  {
   "cell_type": "code",
   "execution_count": 5,
   "metadata": {},
   "outputs": [],
   "source": [
    "results = {\n",
    "    'routing': results_diff_routing,\n",
    "    'cascading': results_diff_cascading,\n",
    "    'cascading_ours': results_diff_cascading_ours,\n",
    "    'linear': results_linear,\n",
    "    'cascade_routing': results_cascade_routing\n",
    "}"
   ]
  },
  {
   "cell_type": "code",
   "execution_count": 6,
   "metadata": {},
   "outputs": [],
   "source": [
    "import seaborn as sns\n",
    "import matplotlib.pyplot as plt\n",
    "from scipy.interpolate import griddata\n",
    "\n",
    "def generate_plot(plot=\"routing\"):\n",
    "    diff_sigma = 0.2\n",
    "    min_sigma, max_sigma = 0, 3.0\n",
    "    fig, ax = plt.subplots(1, 1, figsize=(5, 5), dpi=150)\n",
    "\n",
    "    xyz_data = []\n",
    "    for result, other in zip(results[\"cascade_routing\"], results[plot]):\n",
    "        xyz_data.append([result[0], \n",
    "                        result[1], \n",
    "                        (result[2] - other[2]) * 100])\n",
    "\n",
    "    data = np.array(xyz_data)\n",
    "    xs = data[:, 0]\n",
    "    ys = data[:, 1]\n",
    "    zs = data[:, 2]\n",
    "    Nx, Ny = 1000, 1000\n",
    "\n",
    "    x_min, x_max = xs.min(), xs.max()\n",
    "    y_min, y_max = ys.min(), ys.max()\n",
    "    grid_x = np.linspace(x_min, x_max, Nx)\n",
    "    grid_y = np.linspace(y_min, y_max, Ny)\n",
    "\n",
    "    X, Y = np.meshgrid(grid_x, grid_y)\n",
    "    Z = griddata(points=(xs, ys), \n",
    "                values=zs, \n",
    "                xi=(X, Y), \n",
    "                method='cubic')\n",
    "\n",
    "    imshow = ax.imshow(Z, origin='lower', cmap='coolwarm', interpolation='quadric', \n",
    "                    extent=[0, x_max + 0.01, 0, y_max + 0.01])\n",
    "\n",
    "\n",
    "    range_xticks = np.arange(0, max_sigma + diff_sigma, diff_sigma * 3)\n",
    "    range_xticks = [round(x, 1) for x in range_xticks]\n",
    "    ax.set_xticks(range_xticks)\n",
    "    # set font size\n",
    "    ax.tick_params(labelsize=18)\n",
    "    range_yticks = np.arange(0, max_sigma + diff_sigma, diff_sigma * 3)\n",
    "    range_yticks = [round(x, 1) for x in range_yticks]\n",
    "    ax.set_yticks(range_yticks)\n",
    "\n",
    "    # remove grid\n",
    "    sns.despine(left=True, bottom=True, right=True, top=True)\n",
    "    ax.set_xlabel(r\"$\\sigma_\\mathrm{ante}$\", fontsize=24)\n",
    "    ax.set_ylabel(r\"$\\sigma_\\mathrm{post}$\", fontsize=24)\n",
    "\n",
    "\n",
    "    # set light gray background\n",
    "    ax.set_facecolor((0.95, 0.95, 0.95))\n",
    "\n",
    "    # add a colorbar, without spine\n",
    "    cbar = plt.colorbar(imshow, ax=ax,fraction=0.046, pad=0.04)\n",
    "    cbar.outline.set_visible(False)\n",
    "    # set font size of colorbar\n",
    "    cbar.ax.tick_params(labelsize=18)\n",
    "    if plot == \"routing\":\n",
    "        cbar.ax.set_yticks([0,3,6,9,12])\n",
    "    else:\n",
    "        cbar.ax.set_yticks([2,4,6,8])\n",
    "    # make all white space tight\n",
    "    fig.tight_layout()\n",
    "    plt.show()\n",
    "# make the colorbar match the height of the plot"
   ]
  },
  {
   "cell_type": "code",
   "execution_count": 7,
   "metadata": {},
   "outputs": [
    {
     "data": {
      "image/png": "[encoded data removed]",
      "text/plain": [
       "<Figure size 750x750 with 2 Axes>"
      ]
     },
     "metadata": {},
     "output_type": "display_data"
    }
   ],
   "source": [
    "generate_plot(\"routing\")"
   ]
  },
  {
   "cell_type": "code",
   "execution_count": 8,
   "metadata": {},
   "outputs": [
    {
     "data": {
      "image/png": "[encoded data removed]",
      "text/plain": [
       "<Figure size 750x750 with 2 Axes>"
      ]
     },
     "metadata": {},
     "output_type": "display_data"
    }
   ],
   "source": [
    "generate_plot(\"cascading\")"
   ]
  },
  {
   "cell_type": "code",
   "execution_count": 9,
   "metadata": {},
   "outputs": [
    {
     "name": "stdout",
     "output_type": "stream",
     "text": [
      "Table 1 from our paper, 5-shot results\n",
      "\\begin{tabular}{rrrrrrrrr}\n",
      "\\toprule\n",
      "0 & 1 & 2 & 3 & 4 & 5 & 6 & 7 & 8 \\\\\n",
      "\\midrule\n",
      "74.210281 & 74.210281 & 74.210281 & 73.823577 & 73.823577 & 73.823577 & 75.160194 & 75.160194 & 75.160194 \\\\\n",
      "81.495843 & 77.223977 & 76.006404 & 82.425209 & 76.843640 & 75.542914 & 85.341982 & 77.767974 & 76.435299 \\\\\n",
      "83.163363 & 78.578931 & 76.885932 & 84.271977 & 76.593376 & 73.918097 & 87.143259 & 78.603027 & 74.942672 \\\\\n",
      "82.781413 & 78.771949 & 77.009444 & 84.259067 & 77.194329 & 74.298901 & 86.722471 & 78.671225 & 75.081530 \\\\\n",
      "83.798999 & 78.858862 & 77.105493 & 85.503886 & 78.781568 & 76.750747 & 88.780025 & 80.900848 & 78.035322 \\\\\n",
      "\\bottomrule\n",
      "\\end{tabular}\n",
      "\n"
     ]
    },
    {
     "name": "stderr",
     "output_type": "stream",
     "text": [
      "100%|██████████| 500/500 [00:33<00:00, 15.04it/s]\n",
      "100%|██████████| 500/500 [01:02<00:00,  7.99it/s]\n",
      "100%|██████████| 500/500 [01:02<00:00,  8.01it/s]\n",
      "100%|██████████| 500/500 [01:02<00:00,  8.02it/s]\n",
      "100%|██████████| 500/500 [00:31<00:00, 15.88it/s]\n",
      "100%|██████████| 500/500 [00:33<00:00, 15.04it/s]\n",
      "100%|██████████| 500/500 [01:03<00:00,  7.93it/s]\n",
      "100%|██████████| 500/500 [01:03<00:00,  7.89it/s]\n",
      "100%|██████████| 500/500 [01:03<00:00,  7.91it/s]\n",
      "100%|██████████| 500/500 [00:31<00:00, 15.76it/s]\n",
      "100%|██████████| 500/500 [00:33<00:00, 14.95it/s]\n",
      "100%|██████████| 500/500 [01:03<00:00,  7.88it/s]\n",
      "100%|██████████| 500/500 [01:03<00:00,  7.85it/s]\n",
      "100%|██████████| 500/500 [01:03<00:00,  7.86it/s]\n",
      "100%|██████████| 500/500 [00:31<00:00, 15.71it/s]\n",
      "100%|██████████| 500/500 [00:48<00:00, 10.29it/s]\n",
      "100%|██████████| 500/500 [01:33<00:00,  5.35it/s]\n",
      "100%|██████████| 500/500 [01:33<00:00,  5.35it/s]\n",
      "100%|██████████| 500/500 [01:33<00:00,  5.34it/s]\n",
      "100%|██████████| 500/500 [00:46<00:00, 10.72it/s]\n",
      "100%|██████████| 500/500 [00:48<00:00, 10.27it/s]\n",
      "100%|██████████| 500/500 [01:33<00:00,  5.34it/s]\n",
      "100%|██████████| 500/500 [01:33<00:00,  5.33it/s]\n",
      "100%|██████████| 500/500 [01:33<00:00,  5.34it/s]\n",
      "100%|██████████| 500/500 [00:46<00:00, 10.72it/s]\n",
      "100%|██████████| 500/500 [00:48<00:00, 10.22it/s]\n",
      "100%|██████████| 500/500 [01:33<00:00,  5.34it/s]\n",
      "100%|██████████| 500/500 [01:33<00:00,  5.34it/s]\n",
      "100%|██████████| 500/500 [01:33<00:00,  5.34it/s]\n",
      "100%|██████████| 500/500 [00:46<00:00, 10.70it/s]\n",
      "100%|██████████| 500/500 [00:49<00:00, 10.19it/s]\n",
      "100%|██████████| 500/500 [01:33<00:00,  5.33it/s]\n",
      "100%|██████████| 500/500 [01:33<00:00,  5.33it/s]\n",
      "100%|██████████| 500/500 [01:33<00:00,  5.33it/s]\n",
      "100%|██████████| 500/500 [00:46<00:00, 10.75it/s]\n",
      "100%|██████████| 500/500 [00:48<00:00, 10.25it/s]\n",
      "100%|██████████| 500/500 [01:33<00:00,  5.33it/s]\n",
      "100%|██████████| 500/500 [01:33<00:00,  5.34it/s]\n",
      "100%|██████████| 500/500 [01:33<00:00,  5.33it/s]\n",
      "100%|██████████| 500/500 [00:46<00:00, 10.75it/s]\n",
      "100%|██████████| 500/500 [00:49<00:00, 10.16it/s]\n",
      "100%|██████████| 500/500 [01:33<00:00,  5.33it/s]\n",
      "100%|██████████| 500/500 [01:34<00:00,  5.27it/s]\n",
      "100%|██████████| 500/500 [01:34<00:00,  5.31it/s]\n",
      "100%|██████████| 500/500 [00:46<00:00, 10.72it/s]\n"
     ]
    },
    {
     "name": "stdout",
     "output_type": "stream",
     "text": [
      "Table 4 from our paper\n",
      "\\begin{tabular}{lllllllll}\n",
      "\\toprule\n",
      "0 & 1 & 2 & 3 & 4 & 5 & 6 & 7 & 8 \\\\\n",
      "\\midrule\n",
      "$-9.560000^{+0.210000}_{-0.220000}$ & $-4.620000^{+0.180000}_{-0.170000}$ & $-2.870000^{+0.170000}_{-0.180000}$ & $-11.650000^{+0.230000}_{-0.240000}$ & $-4.930000^{+0.190000}_{-0.170000}$ & $-2.900000^{+0.150000}_{-0.160000}$ & $-13.600000^{+0.240000}_{-0.260000}$ & $-5.710000^{+0.220000}_{-0.200000}$ & $-2.850000^{+0.200000}_{-0.210000}$ \\\\\n",
      "$-2.300000^{+0.140000}_{-0.130000}$ & $-1.640000^{+0.150000}_{-0.150000}$ & $-1.100000^{+0.130000}_{-0.140000}$ & $-3.080000^{+0.160000}_{-0.140000}$ & $-1.940000^{+0.160000}_{-0.140000}$ & $-1.210000^{+0.140000}_{-0.150000}$ & $-3.430000^{+0.150000}_{-0.170000}$ & $-3.130000^{+0.190000}_{-0.200000}$ & $-1.600000^{+0.170000}_{-0.160000}$ \\\\\n",
      "$-0.640000^{+0.110000}_{-0.100000}$ & $-0.280000^{+0.130000}_{-0.140000}$ & $-0.220000^{+0.160000}_{-0.160000}$ & $-1.230000^{+0.120000}_{-0.120000}$ & $-2.190000^{+0.210000}_{-0.210000}$ & $-2.830000^{+0.240000}_{-0.240000}$ & $-1.640000^{+0.120000}_{-0.130000}$ & $-2.290000^{+0.240000}_{-0.240000}$ & $-3.090000^{+0.270000}_{-0.260000}$ \\\\\n",
      "$-1.020000^{+0.100000}_{-0.090000}$ & $-0.090000^{+0.110000}_{-0.110000}$ & $-0.100000^{+0.140000}_{-0.140000}$ & $-1.250000^{+0.100000}_{-0.090000}$ & $-1.590000^{+0.170000}_{-0.170000}$ & $-2.450000^{+0.210000}_{-0.210000}$ & $-2.060000^{+0.100000}_{-0.100000}$ & $-2.220000^{+0.210000}_{-0.190000}$ & $-2.950000^{+0.230000}_{-0.240000}$ \\\\\n",
      "$83.790000^{+0.300000}_{-0.330000}$ & $78.850000^{+0.290000}_{-0.340000}$ & $77.100000^{+0.320000}_{-0.350000}$ & $85.500000^{+0.260000}_{-0.260000}$ & $78.770000^{+0.320000}_{-0.330000}$ & $76.740000^{+0.340000}_{-0.360000}$ & $88.780000^{+0.220000}_{-0.220000}$ & $80.890000^{+0.280000}_{-0.290000}$ & $78.030000^{+0.300000}_{-0.310000}$ \\\\\n",
      "\\bottomrule\n",
      "\\end{tabular}\n",
      "\n"
     ]
    }
   ],
   "source": [
    "routerbench_main(\"5\")"
   ]
  },
  {
   "cell_type": "markdown",
   "metadata": {},
   "source": [
    "## Other Benchmarks"
   ]
  },
  {
   "cell_type": "code",
   "execution_count": 29,
   "metadata": {},
   "outputs": [
    {
     "name": "stdout",
     "output_type": "stream",
     "text": [
      "Table 2 from our paper, Swebench\n",
      "\\begin{tabular}{rr}\n",
      "\\toprule\n",
      "0 & 1 \\\\\n",
      "\\midrule\n",
      "40.505392 & 38.637494 \\\\\n",
      "40.491937 & 39.395796 \\\\\n",
      "38.519802 & 45.890315 \\\\\n",
      "53.206177 & 50.944446 \\\\\n",
      "54.121852 & 51.090586 \\\\\n",
      "\\bottomrule\n",
      "\\end{tabular}\n",
      "\n"
     ]
    }
   ],
   "source": [
    "import json\n",
    "files = [\n",
    "    # 893 is the moment where both cascading and cascading routing start to be constant (reach max quality at this cost)\n",
    "    ('0,1,2,3,4,5,6,7,8,9.json', 893.2915208333334),\n",
    "    ('0,1,2,3,8.json', 498.4275722135417)\n",
    "]\n",
    "\n",
    "base_path = '../data/results/swebench/'\n",
    "\n",
    "all_results = {\n",
    "    'linear': [],\n",
    "    'routing': [],\n",
    "    'cascading': [],\n",
    "    'cascading_ours': [],\n",
    "    'cascade_routing': [],\n",
    "}\n",
    "\n",
    "for file_name, max_cost in files:\n",
    "    with open(base_path + file_name, 'r') as file:\n",
    "        results = json.load(file)\n",
    "        qualities, costs, _ = remove_redundant_models(results['qualities_baseline'], results['costs_baseline'])\n",
    "        cost_arg = costs + [max_cost]\n",
    "        qualities_arg = qualities + [max(qualities)]\n",
    "        linear = auc_all(qualities, costs, qualities_arg, cost_arg)['auc'] * 100\n",
    "        router = auc_all(results['router_test']['quality'], results['router_test'][\"cost\"], qualities_arg, cost_arg)['auc'] * 100\n",
    "        cascade = auc_all(results['cascade_test']['quality'], results['cascade_test'][\"cost\"], qualities_arg, cost_arg)['auc'] * 100\n",
    "        cascade_ours = auc_all(results['cascade_test_ours']['quality'], results['cascade_test_ours'][\"cost\"], \n",
    "                               qualities_arg, cost_arg)['auc'] * 100\n",
    "        cascade_routing = auc_all(results['test']['quality'], results['test'][\"cost\"], qualities_arg, cost_arg)['auc'] * 100\n",
    "        all_results['linear'].append(linear)\n",
    "        all_results['routing'].append(router)\n",
    "        all_results['cascading'].append(cascade)\n",
    "        all_results['cascading_ours'].append(cascade_ours)\n",
    "        all_results['cascade_routing'].append(cascade_routing)\n",
    "\n",
    "df = pd.DataFrame(all_results).T\n",
    "# to latex\n",
    "print('Table 2 from our paper, Swebench')\n",
    "print(df.to_latex(index=False))"
   ]
  },
  {
   "cell_type": "code",
   "execution_count": 30,
   "metadata": {},
   "outputs": [],
   "source": [
    "import json\n",
    "import numpy as np\n",
    "import pandas as pd\n",
    "from selection import remove_redundant_models\n",
    "import os\n",
    "dataset = 'swebench'\n",
    "data_folder = '../data'\n",
    "\n",
    "test_model_answers = pd.read_json(os.path.join(data_folder, dataset, 'test', 'model_answers.json'))\n",
    "test_costs = pd.read_json(os.path.join(data_folder, dataset, 'test', 'costs.json'))\n",
    "test_qualities = pd.read_json(os.path.join(data_folder, dataset, 'test', 'qualities.json'))\n",
    "test_queries = list(pd.read_json(os.path.join(data_folder, dataset, 'test', 'queries.json'))[0])\n",
    "\n",
    "test_qualities_averaged = test_qualities.mean(axis=0)\n",
    "test_costs_averaged = test_costs.mean(axis=0)\n",
    "\n",
    "model_names = test_qualities.columns\n",
    "\n",
    "np.random.seed(0)\n",
    "train_indices = np.random.choice(len(test_queries), len(test_queries) // 2, replace=False)\n",
    "test_indices = np.array([i for i in range(len(test_queries)) if i not in train_indices])\n",
    "train_queries = [test_queries[i] for i in train_indices]\n",
    "train_model_answers = test_model_answers.iloc[train_indices]\n",
    "train_costs = test_costs.iloc[train_indices]\n",
    "train_qualities = test_qualities.iloc[train_indices]\n",
    "test_queries = [test_queries[i] for i in test_indices]\n",
    "test_model_answers = test_model_answers.iloc[test_indices]\n",
    "test_costs = test_costs.iloc[test_indices]\n",
    "test_qualities = test_qualities.iloc[test_indices]"
   ]
  },
  {
   "cell_type": "code",
   "execution_count": 32,
   "metadata": {},
   "outputs": [
    {
     "name": "stderr",
     "output_type": "stream",
     "text": [
      "100%|██████████| 500/500 [00:09<00:00, 54.72it/s]\n",
      "100%|██████████| 500/500 [00:09<00:00, 54.67it/s]\n",
      "100%|██████████| 500/500 [00:09<00:00, 54.69it/s]\n",
      "100%|██████████| 500/500 [00:03<00:00, 151.21it/s]\n",
      "100%|██████████| 500/500 [00:04<00:00, 106.88it/s]\n",
      "100%|██████████| 500/500 [00:04<00:00, 107.34it/s]\n",
      "100%|██████████| 500/500 [00:04<00:00, 106.35it/s]\n",
      "100%|██████████| 500/500 [00:01<00:00, 287.43it/s]"
     ]
    },
    {
     "name": "stdout",
     "output_type": "stream",
     "text": [
      "Table 6 from our paper, swebench\n",
      "\\begin{tabular}{ll}\n",
      "\\toprule\n",
      "0 & 1 \\\\\n",
      "\\midrule\n",
      "$-13.650000^{+4.500000}_{-4.320000}$ & $-11.710000^{+4.390000}_{-4.140000}$ \\\\\n",
      "$-15.360000^{+3.900000}_{-3.220000}$ & $-5.170000^{+1.690000}_{-1.630000}$ \\\\\n",
      "$-0.830000^{+1.900000}_{-1.500000}$ & $-0.110000^{+1.050000}_{-1.040000}$ \\\\\n",
      "$54.210000^{+7.490000}_{-7.170000}$ & $51.200000^{+7.440000}_{-7.220000}$ \\\\\n",
      "\\bottomrule\n",
      "\\end{tabular}\n",
      "\n"
     ]
    },
    {
     "name": "stderr",
     "output_type": "stream",
     "text": [
      "\n"
     ]
    }
   ],
   "source": [
    "all_results = {\n",
    "    'routing': [],\n",
    "    'cascading': [],\n",
    "    'cascading_ours': [],\n",
    "    'cascade_routing': []\n",
    "}\n",
    "\n",
    "for file_name, max_cost in files:\n",
    "    split = [int(i) for i in file_name[:-5].split(',')]\n",
    "    \n",
    "    with open(base_path + file_name, 'r') as file:\n",
    "        results = json.load(file)\n",
    "        baseline_costs_here = results['costs_baseline'] + [max_cost]\n",
    "        baseline_qualities_here = results['qualities_baseline'] + [max(results['qualities_baseline'])]\n",
    "        mapping = {\n",
    "            \"routing\": (results['router_test']['quality_all'], results['router_test']['cost_all']),\n",
    "            \"cascading\": (results['cascade_test']['quality_all'], results['cascade_test']['cost_all']),\n",
    "            \"cascading_ours\": (results['cascade_test_ours']['quality_all'], results['cascade_test_ours']['cost_all']),\n",
    "            \"cascade_routing\": (results['test']['quality_all'], results['test']['cost_all'])\n",
    "        }\n",
    "        for key in mapping:\n",
    "            if \"cascade_routing\" != key:\n",
    "                bootstrap = bootstrap_diff(mapping[key][0], mapping[key][1],\n",
    "                                            results['test']['quality_all'], results['test']['cost_all'],\n",
    "                                            baseline_qualities_here, baseline_costs_here)\n",
    "            else:\n",
    "                bootstrap = bootstrap_normal(mapping[key][0], mapping[key][1],\n",
    "                                            baseline_qualities_here, baseline_costs_here)\n",
    "            all_results[key].append(f\"${round(bootstrap[1] * 100, 2):2f}^{{+{round(bootstrap[2][2] * 100, 2):2f}}}_{{{round(bootstrap[2][1] * 100, 2):2f}}}$\")\n",
    "\n",
    "\n",
    "df = pd.DataFrame(all_results).T\n",
    "# add avg column\n",
    "# to latex\n",
    "print(\"Table 6 from our paper, swebench\")\n",
    "print(df.to_latex(index=False))"
   ]
  },
  {
   "cell_type": "code",
   "execution_count": 13,
   "metadata": {},
   "outputs": [
    {
     "name": "stdout",
     "output_type": "stream",
     "text": [
      "Table 2 from our paper, Math+code\n",
      "\\begin{tabular}{r}\n",
      "\\toprule\n",
      "0 \\\\\n",
      "\\midrule\n",
      "39.626901 \\\\\n",
      "47.463307 \\\\\n",
      "37.677355 \\\\\n",
      "46.763934 \\\\\n",
      "48.549854 \\\\\n",
      "\\bottomrule\n",
      "\\end{tabular}\n",
      "\n"
     ]
    }
   ],
   "source": [
    "import json\n",
    "files = [\n",
    "    '0,1,2,3.json',\n",
    "]\n",
    "\n",
    "base_path = '../data/results/livecodebench_minerva/'\n",
    "\n",
    "df = extract_results(files, base_path)\n",
    "# to latex\n",
    "print('Table 2 from our paper, Math+code')\n",
    "print(df.to_latex(index=False))"
   ]
  },
  {
   "cell_type": "code",
   "execution_count": 14,
   "metadata": {},
   "outputs": [],
   "source": [
    "dataset = 'livecodebench_minerva'\n",
    "data_folder = '../data/code_math'\n",
    "\n",
    "test_model_answers = pd.read_json(os.path.join(data_folder, dataset, 'test', 'model_answers.json'))\n",
    "test_costs = pd.read_json(os.path.join(data_folder, dataset, 'test', 'costs.json'))\n",
    "test_qualities = pd.read_json(os.path.join(data_folder, dataset, 'test', 'qualities.json'))\n",
    "test_queries = list(pd.read_json(os.path.join(data_folder, dataset, 'test', 'queries.json'))[0])\n",
    "\n",
    "test_qualities_averaged = test_qualities.mean(axis=0)\n",
    "test_costs_averaged = test_costs.mean(axis=0)\n",
    "model_names = test_qualities.columns\n",
    "\n",
    "np.random.seed(0)\n",
    "train_indices = np.random.choice(len(test_queries), len(test_queries) // 2, replace=False)\n",
    "test_indices = np.array([i for i in range(len(test_queries)) if i not in train_indices])\n",
    "train_queries = [test_queries[i] for i in train_indices]\n",
    "train_model_answers = test_model_answers.iloc[train_indices]\n",
    "train_costs = test_costs.iloc[train_indices]\n",
    "train_qualities = test_qualities.iloc[train_indices]\n",
    "test_queries = [test_queries[i] for i in test_indices]\n",
    "test_model_answers = test_model_answers.iloc[test_indices]\n",
    "test_costs = test_costs.iloc[test_indices]\n",
    "test_qualities = test_qualities.iloc[test_indices]"
   ]
  },
  {
   "cell_type": "code",
   "execution_count": 15,
   "metadata": {},
   "outputs": [
    {
     "name": "stderr",
     "output_type": "stream",
     "text": [
      "100%|██████████| 500/500 [00:03<00:00, 125.67it/s]\n",
      "100%|██████████| 500/500 [00:07<00:00, 67.89it/s]\n",
      "100%|██████████| 500/500 [00:07<00:00, 67.82it/s]\n",
      "100%|██████████| 500/500 [00:07<00:00, 67.61it/s]\n",
      "100%|██████████| 500/500 [00:03<00:00, 155.92it/s]"
     ]
    },
    {
     "name": "stdout",
     "output_type": "stream",
     "text": [
      "Table 6 from our paper, minerva math + livecodebench part\n",
      "\\begin{tabular}{l}\n",
      "\\toprule\n",
      "0 \\\\\n",
      "\\midrule\n",
      "$-8.870000^{+1.450000}_{-1.340000}$ \\\\\n",
      "$-1.110000^{+0.810000}_{-0.800000}$ \\\\\n",
      "$-10.770000^{+1.710000}_{-1.720000}$ \\\\\n",
      "$-1.820000^{+0.580000}_{-0.550000}$ \\\\\n",
      "$48.510000^{+2.950000}_{-2.990000}$ \\\\\n",
      "\\bottomrule\n",
      "\\end{tabular}\n",
      "\n"
     ]
    },
    {
     "name": "stderr",
     "output_type": "stream",
     "text": [
      "\n"
     ]
    }
   ],
   "source": [
    "df = extract_results_bootstrap(files, base_path, test_qualities_averaged, test_costs_averaged, model_names, test_qualities, test_costs)\n",
    "# add avg column\n",
    "# to latex\n",
    "print(\"Table 6 from our paper, minerva math + livecodebench part\")\n",
    "print(df.to_latex(index=False))"
   ]
  },
  {
   "cell_type": "code",
   "execution_count": 16,
   "metadata": {},
   "outputs": [
    {
     "name": "stdout",
     "output_type": "stream",
     "text": [
      "Table 2 from our paper, first half on classification\n",
      "\\begin{tabular}{rrr}\n",
      "\\toprule\n",
      "0 & 1 & 2 \\\\\n",
      "\\midrule\n",
      "74.282600 & 61.683007 & 63.389435 \\\\\n",
      "74.921240 & 64.439964 & 64.890300 \\\\\n",
      "74.807582 & 54.319901 & 61.202081 \\\\\n",
      "75.458600 & 62.786118 & 63.311541 \\\\\n",
      "75.516728 & 64.835861 & 64.970347 \\\\\n",
      "\\bottomrule\n",
      "\\end{tabular}\n",
      "\n"
     ]
    }
   ],
   "source": [
    "import json\n",
    "files = [\n",
    "    '0,1,2.json',\n",
    "    '3,4,5.json',\n",
    "    '6,7,8.json',\n",
    "]\n",
    "\n",
    "base_path = '../data/results/classification/mmlu_arc_mixeval/'\n",
    "\n",
    "df = extract_results(files, base_path)\n",
    "# to latex\n",
    "print('Table 2 from our paper, first half on classification')\n",
    "print(df.to_latex(index=False))"
   ]
  },
  {
   "cell_type": "code",
   "execution_count": 17,
   "metadata": {},
   "outputs": [],
   "source": [
    "import json\n",
    "import numpy as np\n",
    "import pandas as pd\n",
    "from selection import remove_redundant_models\n",
    "import os\n",
    "\n",
    "base_path = '../data/results/classification/mmlu_arc_mixeval/'\n",
    "\n",
    "dataset = 'mmlu_arc_mixeval'\n",
    "data_folder = '../data/classification'\n",
    "\n",
    "test_model_answers = pd.read_json(os.path.join(data_folder, dataset, 'test', 'model_answers.json'))\n",
    "test_costs = pd.read_json(os.path.join(data_folder, dataset, 'test', 'costs.json'))\n",
    "test_qualities = pd.read_json(os.path.join(data_folder, dataset, 'test', 'qualities.json'))\n",
    "test_queries = list(pd.read_json(os.path.join(data_folder, dataset, 'test', 'queries.json'))[0])\n",
    "\n",
    "test_qualities_averaged = test_qualities.mean(axis=0)\n",
    "test_costs_averaged = test_costs.mean(axis=0)\n",
    "\n",
    "model_names = test_qualities.columns"
   ]
  },
  {
   "cell_type": "code",
   "execution_count": 18,
   "metadata": {},
   "outputs": [],
   "source": [
    "test_queries_df = pd.DataFrame(json.load(open('../data/classification/mmlu_arc_mixeval/test/queries.json'))['0']).T"
   ]
  },
  {
   "cell_type": "code",
   "execution_count": 19,
   "metadata": {},
   "outputs": [
    {
     "name": "stdout",
     "output_type": "stream",
     "text": [
      "Table 2 from our paper, second half on classification, per dataset 2\n",
      "\\begin{tabular}{lllllllll}\n",
      "\\toprule\n",
      "0 & 1 & 2 & 3 & 4 & 5 & 6 & 7 & 8 \\\\\n",
      "\\midrule\n",
      "$53.820000$ & $93.150000$ & $82.860000$ & $39.400000$ & $82.280000$ & $70.970000$ & $39.760000$ & $85.390000$ & $73.030000$ \\\\\n",
      "$55.320000$ & $93.120000$ & $82.860000$ & $40.010000$ & $83.130000$ & $73.120000$ & $40.610000$ & $85.640000$ & $74.280000$ \\\\\n",
      "$54.800000$ & $94.080000$ & $84.150000$ & $36.430000$ & $77.530000$ & $66.100000$ & $36.990000$ & $83.880000$ & $72.730000$ \\\\\n",
      "$55.050000$ & $94.160000$ & $84.000000$ & $37.680000$ & $79.800000$ & $70.570000$ & $37.030000$ & $86.270000$ & $74.420000$ \\\\\n",
      "$55.400000$ & $93.900000$ & $83.910000$ & $39.930000$ & $83.740000$ & $73.160000$ & $40.560000$ & $86.520000$ & $74.640000$ \\\\\n",
      "\\bottomrule\n",
      "\\end{tabular}\n",
      "\n"
     ]
    }
   ],
   "source": [
    "def subselect_qualities_costs(qualities_all, costs_all, queries, dataset):\n",
    "    qualities = []\n",
    "    costs = []\n",
    "    for qualities_all_here in qualities_all:\n",
    "        quality = np.array(qualities_all_here)[np.array(queries[dataset + 1]).astype(bool)]\n",
    "        qualities.append(quality)\n",
    "    for costs_all_here in costs_all:\n",
    "        cost = np.array(costs_all_here)[np.array(queries[dataset + 1]).astype(bool)]\n",
    "        costs.append(cost)\n",
    "    return qualities, costs\n",
    "\n",
    "def get_auc_dataset(qualities_all, costs_all, queries, dataset, qualities_baseline, costs_baseline):\n",
    "    qualities, costs = subselect_qualities_costs(qualities_all, costs_all, queries, dataset)\n",
    "    qualities_mean = np.mean(np.array(qualities), axis=1)\n",
    "    costs_mean = np.mean(np.array(costs), axis=1)\n",
    "    return auc_all(qualities_mean, costs_mean, qualities_baseline, costs_baseline)['auc']\n",
    "\n",
    "def get_results_individual(files, base_path, test_qualities, test_costs, test_queries_df, n_datasets=3):\n",
    "    all_results = {\n",
    "            'linear': [],\n",
    "            'routing': [],\n",
    "            'cascading': [],\n",
    "            'cascading_ours': [],\n",
    "            'cascade_routing': []\n",
    "        }\n",
    "    for file_name in files:\n",
    "        for dataset in range(n_datasets):\n",
    "        \n",
    "            models = [int(i) for i in file_name[:-5].split(',')]\n",
    "            qualities_models = np.array(test_qualities[model_names[models]]).T\n",
    "            costs_models = np.array(test_costs[model_names[models]]).T\n",
    "            qualities_baseline, costs_baseline = subselect_qualities_costs(qualities_models, costs_models, test_queries_df, dataset)\n",
    "            qualities_baseline_averaged = np.mean(np.array(qualities_baseline), axis=1)\n",
    "            costs_baseline_averaged = np.mean(np.array(costs_baseline), axis=1)\n",
    "            with open(base_path + file_name, 'r') as file:\n",
    "                results = json.load(file)\n",
    "                mapping = {\n",
    "                    \"linear\": (qualities_models, costs_models),\n",
    "                    \"routing\": (results['router_test']['quality_all'], results['router_test']['cost_all']),\n",
    "                    \"cascading\": (results['cascade_test']['quality_all'], results['cascade_test']['cost_all']),\n",
    "                    \"cascading_ours\": (results['cascade_test_ours']['quality_all'], results['cascade_test_ours']['cost_all']),\n",
    "                    \"cascade_routing\": (results['test']['quality_all'], results['test']['cost_all'])\n",
    "                }\n",
    "                for key in mapping:\n",
    "                    auc = get_auc_dataset(mapping[key][0], mapping[key][1], test_queries_df, dataset, qualities_baseline_averaged, costs_baseline_averaged)\n",
    "                    all_results[key].append(f\"${round(auc * 100, 2):2f}$\")\n",
    "\n",
    "    df = pd.DataFrame(all_results).T\n",
    "    # to latex\n",
    "    print('Table 2 from our paper, second half on classification, per dataset', dataset)\n",
    "    print(df.to_latex(index=False))\n",
    "\n",
    "get_results_individual(files, base_path, test_qualities, test_costs, test_queries_df)"
   ]
  },
  {
   "cell_type": "code",
   "execution_count": 20,
   "metadata": {},
   "outputs": [
    {
     "name": "stderr",
     "output_type": "stream",
     "text": [
      "100%|██████████| 500/500 [00:04<00:00, 101.81it/s]\n",
      "100%|██████████| 500/500 [00:09<00:00, 54.90it/s]\n",
      "100%|██████████| 500/500 [00:09<00:00, 54.82it/s]\n",
      "100%|██████████| 500/500 [00:09<00:00, 55.00it/s]\n",
      "100%|██████████| 500/500 [00:04<00:00, 115.67it/s]\n",
      "100%|██████████| 500/500 [00:04<00:00, 100.93it/s]\n",
      "100%|██████████| 500/500 [00:09<00:00, 54.29it/s]\n",
      "100%|██████████| 500/500 [00:09<00:00, 54.26it/s]\n",
      "100%|██████████| 500/500 [00:09<00:00, 54.07it/s]\n",
      "100%|██████████| 500/500 [00:04<00:00, 113.14it/s]\n",
      "100%|██████████| 500/500 [00:05<00:00, 99.79it/s] \n",
      "100%|██████████| 500/500 [00:09<00:00, 53.82it/s]\n",
      "100%|██████████| 500/500 [00:09<00:00, 53.69it/s]\n",
      "100%|██████████| 500/500 [00:09<00:00, 53.53it/s]\n",
      "100%|██████████| 500/500 [00:04<00:00, 113.34it/s]"
     ]
    },
    {
     "name": "stdout",
     "output_type": "stream",
     "text": [
      "Table 6 from our paper, classification part\n",
      "\\begin{tabular}{lll}\n",
      "\\toprule\n",
      "0 & 1 & 2 \\\\\n",
      "\\midrule\n",
      "$-1.230000^{+0.280000}_{-0.270000}$ & $-3.150000^{+0.430000}_{-0.360000}$ & $-1.600000^{+0.520000}_{-0.530000}$ \\\\\n",
      "$-0.600000^{+0.320000}_{-0.340000}$ & $-0.390000^{+0.500000}_{-0.470000}$ & $-0.080000^{+0.120000}_{-0.100000}$ \\\\\n",
      "$-0.710000^{+0.300000}_{-0.280000}$ & $-10.510000^{+0.620000}_{-0.610000}$ & $-3.790000^{+0.730000}_{-0.770000}$ \\\\\n",
      "$-0.060000^{+0.150000}_{-0.170000}$ & $-2.040000^{+0.330000}_{-0.310000}$ & $-1.670000^{+0.410000}_{-0.420000}$ \\\\\n",
      "$75.560000^{+1.220000}_{-1.160000}$ & $64.890000^{+1.360000}_{-1.420000}$ & $65.020000^{+1.400000}_{-1.240000}$ \\\\\n",
      "\\bottomrule\n",
      "\\end{tabular}\n",
      "\n"
     ]
    },
    {
     "name": "stderr",
     "output_type": "stream",
     "text": [
      "\n"
     ]
    }
   ],
   "source": [
    "df = extract_results_bootstrap(files, base_path, test_qualities_averaged, test_costs_averaged, model_names, test_qualities, test_costs)\n",
    "# add avg column\n",
    "# to latex\n",
    "print(\"Table 6 from our paper, classification part\")\n",
    "print(df.to_latex(index=False))"
   ]
  },
  {
   "cell_type": "code",
   "execution_count": 21,
   "metadata": {},
   "outputs": [
    {
     "name": "stdout",
     "output_type": "stream",
     "text": [
      "Table 2 from our paper, second half on open-form\n",
      "\\begin{tabular}{rrr}\n",
      "\\toprule\n",
      "0 & 1 & 2 \\\\\n",
      "\\midrule\n",
      "79.113000 & 54.097636 & 53.859567 \\\\\n",
      "79.318910 & 58.395591 & 58.705107 \\\\\n",
      "79.224978 & 56.184755 & 48.294154 \\\\\n",
      "79.671507 & 57.655633 & 55.685703 \\\\\n",
      "79.877363 & 59.656503 & 58.728561 \\\\\n",
      "\\bottomrule\n",
      "\\end{tabular}\n",
      "\n"
     ]
    }
   ],
   "source": [
    "files = [\n",
    "    '0,1,2.json',\n",
    "    '3,4,5.json',\n",
    "    '6,7,8.json',\n",
    "]\n",
    "\n",
    "base_path = '../data/results/free_form/mmlu_gsm8k/'\n",
    "\n",
    "df = extract_results(files, base_path)\n",
    "# to latex\n",
    "print('Table 2 from our paper, second half on open-form')\n",
    "print(df.to_latex(index=False))"
   ]
  },
  {
   "cell_type": "code",
   "execution_count": 22,
   "metadata": {},
   "outputs": [],
   "source": [
    "import json\n",
    "import numpy as np\n",
    "import pandas as pd\n",
    "from selection import remove_redundant_models\n",
    "import os\n",
    "\n",
    "base_path = '../data/results/free_form/mmlu_gsm8k/'\n",
    "\n",
    "dataset = 'mmlu_gsm8k'\n",
    "data_folder = '../data/free_form'\n",
    "\n",
    "test_model_answers = pd.read_json(os.path.join(data_folder, dataset, 'test', 'model_answers.json'))\n",
    "test_costs = pd.read_json(os.path.join(data_folder, dataset, 'test', 'costs.json'))\n",
    "test_qualities = pd.read_json(os.path.join(data_folder, dataset, 'test', 'qualities.json'))\n",
    "test_queries = pd.read_json(os.path.join(data_folder, dataset, 'test', 'queries.json'))\n",
    "\n",
    "test_queries = list(test_queries.apply(lambda x: [x[0][0][1] + '\\nQuestion: ' + x[1][1] + '\\nAnswer:' + x[2][1] + '\\nQuestion:' + x[3][1]] + x[0][1:], axis=1))\n",
    "\n",
    "test_qualities_averaged = test_qualities.mean(axis=0)\n",
    "test_costs_averaged = test_costs.mean(axis=0)\n",
    "\n",
    "model_names = test_qualities.columns\n",
    "\n",
    "test_queries_df = pd.DataFrame(json.load(open('../data/free_form/mmlu_gsm8k/test/queries.json'))['0']).T"
   ]
  },
  {
   "cell_type": "code",
   "execution_count": 23,
   "metadata": {},
   "outputs": [
    {
     "name": "stdout",
     "output_type": "stream",
     "text": [
      "Table 2 from our paper, second half on classification, per dataset 1\n",
      "\\begin{tabular}{llllll}\n",
      "\\toprule\n",
      "0 & 1 & 2 & 3 & 4 & 5 \\\\\n",
      "\\midrule\n",
      "$65.640000$ & $94.430000$ & $36.520000$ & $73.860000$ & $41.400000$ & $67.840000$ \\\\\n",
      "$65.750000$ & $94.150000$ & $38.080000$ & $75.010000$ & $43.030000$ & $68.000000$ \\\\\n",
      "$66.070000$ & $95.170000$ & $35.760000$ & $68.440000$ & $38.880000$ & $60.820000$ \\\\\n",
      "$66.250000$ & $94.940000$ & $38.160000$ & $71.100000$ & $40.760000$ & $64.530000$ \\\\\n",
      "$66.600000$ & $94.690000$ & $40.430000$ & $75.250000$ & $42.930000$ & $68.300000$ \\\\\n",
      "\\bottomrule\n",
      "\\end{tabular}\n",
      "\n"
     ]
    }
   ],
   "source": [
    "get_results_individual(files, base_path, test_qualities, test_costs, test_queries_df, 2)"
   ]
  },
  {
   "cell_type": "code",
   "execution_count": 24,
   "metadata": {},
   "outputs": [
    {
     "name": "stderr",
     "output_type": "stream",
     "text": [
      "100%|██████████| 500/500 [00:04<00:00, 122.91it/s]\n",
      "100%|██████████| 500/500 [00:07<00:00, 66.72it/s]\n",
      "100%|██████████| 500/500 [00:07<00:00, 66.72it/s]\n",
      "100%|██████████| 500/500 [00:07<00:00, 66.66it/s]\n",
      "100%|██████████| 500/500 [00:03<00:00, 143.82it/s]\n",
      "100%|██████████| 500/500 [00:04<00:00, 121.13it/s]\n",
      "100%|██████████| 500/500 [00:07<00:00, 66.46it/s]\n",
      "100%|██████████| 500/500 [00:07<00:00, 66.47it/s]\n",
      "100%|██████████| 500/500 [00:07<00:00, 66.46it/s]\n",
      "100%|██████████| 500/500 [00:03<00:00, 141.23it/s]\n",
      "100%|██████████| 500/500 [00:04<00:00, 119.92it/s]\n",
      "100%|██████████| 500/500 [00:07<00:00, 65.00it/s]\n",
      "100%|██████████| 500/500 [00:07<00:00, 64.69it/s]\n",
      "100%|██████████| 500/500 [00:07<00:00, 64.80it/s]\n",
      "100%|██████████| 500/500 [00:03<00:00, 138.62it/s]"
     ]
    },
    {
     "name": "stdout",
     "output_type": "stream",
     "text": [
      "Table 6 from our paper, classification part\n",
      "\\begin{tabular}{lll}\n",
      "\\toprule\n",
      "0 & 1 & 2 \\\\\n",
      "\\midrule\n",
      "$-0.770000^{+0.300000}_{-0.350000}$ & $-5.550000^{+0.500000}_{-0.470000}$ & $-4.850000^{+0.850000}_{-0.760000}$ \\\\\n",
      "$-0.560000^{+0.380000}_{-0.420000}$ & $-1.260000^{+0.570000}_{-0.550000}$ & $-0.020000^{+0.050000}_{-0.050000}$ \\\\\n",
      "$-0.650000^{+0.230000}_{-0.270000}$ & $-3.470000^{+0.370000}_{-0.400000}$ & $-10.450000^{+1.150000}_{-1.060000}$ \\\\\n",
      "$-0.200000^{+0.190000}_{-0.190000}$ & $-2.000000^{+0.250000}_{-0.250000}$ & $-3.060000^{+0.650000}_{-0.630000}$ \\\\\n",
      "$79.950000^{+1.280000}_{-1.330000}$ & $59.700000^{+1.620000}_{-1.610000}$ & $58.770000^{+1.420000}_{-1.500000}$ \\\\\n",
      "\\bottomrule\n",
      "\\end{tabular}\n",
      "\n"
     ]
    },
    {
     "name": "stderr",
     "output_type": "stream",
     "text": [
      "\n"
     ]
    }
   ],
   "source": [
    "\n",
    "df = extract_results_bootstrap(files, base_path, test_qualities_averaged, test_costs_averaged, model_names, test_qualities, test_costs)\n",
    "# to latex\n",
    "print(\"Table 6 from our paper, classification part\")\n",
    "print(df.to_latex(index=False))"
   ]
  },
  {
   "cell_type": "markdown",
   "metadata": {},
   "source": [
    "## Ablation"
   ]
  },
  {
   "cell_type": "code",
   "execution_count": 34,
   "metadata": {},
   "outputs": [
    {
     "name": "stdout",
     "output_type": "stream",
     "text": [
      "Table 7 from our paper\n",
      "\\begin{tabular}{rrrrrr}\n",
      "\\toprule\n",
      "0 & 1 & 2 & 3 & 4 & 5 \\\\\n",
      "\\midrule\n",
      "87.288663 & 15.263219 & 77.606260 & 9.525337 & 74.408804 & 13.684285 \\\\\n",
      "85.930465 & 1.387429 & 77.166754 & 1.173892 & 74.350349 & 0.885655 \\\\\n",
      "85.977675 & 4.784659 & 77.111513 & 2.492010 & 74.347163 & 2.080314 \\\\\n",
      "87.299149 & 78.883860 & 77.608258 & 87.722173 & 74.395604 & 88.757837 \\\\\n",
      "\\bottomrule\n",
      "\\end{tabular}\n",
      "\n"
     ]
    }
   ],
   "source": [
    "files = {\n",
    "    'low': {\n",
    "        'normal': '0,1,2,3,4,5,6,7,8,9,10_low_0shot_False_False_False.json',\n",
    "        'greedy': '0,1,2,3,4,5,6,7,8,9,10_low_0shot_False_True_False.json',\n",
    "        'no_deviation': '0,1,2,3,4,5,6,7,8,9,10_low_0shot_False_False_True.json',\n",
    "        'no_speedup': '0,1,2,3,4,5,6,7,8,9,10_low_0shot_True_False_False.json',\n",
    "    },\n",
    "    'medium': {\n",
    "        'normal': '0,1,2,3,4,5,6,7,8,9,10_medium_0shot_False_False_False.json',\n",
    "        'greedy': '0,1,2,3,4,5,6,7,8,9,10_medium_0shot_False_True_False.json',\n",
    "        'no_deviation': '0,1,2,3,4,5,6,7,8,9,10_medium_0shot_False_False_True.json',\n",
    "        'no_speedup': '0,1,2,3,4,5,6,7,8,9,10_medium_0shot_True_False_False.json',\n",
    "    },\n",
    "    'high': {\n",
    "        'normal': '0,1,2,3,4,5,6,7,8,9,10_high_0shot_False_False_False.json',\n",
    "        'greedy': '0,1,2,3,4,5,6,7,8,9,10_high_0shot_False_True_False.json',\n",
    "        'no_deviation': '0,1,2,3,4,5,6,7,8,9,10_high_0shot_False_False_True.json',\n",
    "        'no_speedup': '0,1,2,3,4,5,6,7,8,9,10_high_0shot_True_False_False.json',\n",
    "    },\n",
    "}\n",
    "base_path = '../data/results/routerbench_times/'\n",
    "\n",
    "all_results = {\n",
    "    'normal': [],\n",
    "    'greedy': [],\n",
    "    'no_deviation': [],\n",
    "    'no_speedup': []\n",
    "}\n",
    "\n",
    "for n in files:\n",
    "    for strategy in files[n]:\n",
    "        with open(base_path + files[n][strategy], 'r') as file:\n",
    "            results = json.load(file)\n",
    "            all_results[strategy].append(results['aucs']['auc'] * 100)\n",
    "            all_results[strategy].append(np.mean(results['test']['mean_times']) * 1000)\n",
    "\n",
    "df = pd.DataFrame(all_results).T\n",
    "# add avg column\n",
    "# to latex\n",
    "print('Table 7 from our paper')\n",
    "print(df.to_latex(index=False))"
   ]
  }
 ],
 "metadata": {
  "kernelspec": {
   "display_name": "selection",
   "language": "python",
   "name": "python3"
  },
  "language_info": {
   "codemirror_mode": {
    "name": "ipython",
    "version": 3
   },
   "file_extension": ".py",
   "mimetype": "text/x-python",
   "name": "python",
   "nbconvert_exporter": "python",
   "pygments_lexer": "ipython3",
   "version": "3.11.9"
  }
 },
 "nbformat": 4,
 "nbformat_minor": 2
}
