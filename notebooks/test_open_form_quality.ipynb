{
 "cells": [
  {
   "cell_type": "code",
   "execution_count": 1,
   "metadata": {},
   "outputs": [
    {
     "name": "stderr",
     "output_type": "stream",
     "text": [
      "/local/home/jdekoninck/miniconda3/envs/selection/lib/python3.11/site-packages/tqdm/auto.py:21: TqdmWarning: IProgress not found. Please update jupyter and ipywidgets. See https://ipywidgets.readthedocs.io/en/stable/user_install.html\n",
      "  from .autonotebook import tqdm as notebook_tqdm\n"
     ]
    },
    {
     "data": {
      "text/plain": [
       "1"
      ]
     },
     "execution_count": 1,
     "metadata": {},
     "output_type": "execute_result"
    }
   ],
   "source": [
    "import pandas as pd\n",
    "from selection import OpenFormCostComputer, OpenFormQualityComputer, CascadeRouter, Router, ConstantStrategy, HyperoptStrategy, BaselineCascader, RepetitiveConstantStrategy\n",
    "import matplotlib.pyplot as plt\n",
    "import numpy as np\n",
    "import seaborn as sns\n",
    "import os\n",
    "from sklearn.ensemble import RandomForestClassifier\n",
    "from sklearn.linear_model import LogisticRegression, LinearRegression\n",
    "from xgboost.sklearn import XGBClassifier, XGBRegressor\n",
    "from sklearn.svm import SVC, SVR\n",
    "from sklearn.neighbors import KNeighborsClassifier, KNeighborsRegressor\n",
    "from tqdm import tqdm\n",
    "from transformers import AutoTokenizer\n",
    "from concurrent.futures import ThreadPoolExecutor, as_completed, ProcessPoolExecutor\n",
    "from loguru import logger\n",
    "import sys\n",
    "import os\n",
    "from collections import Counter\n",
    "\n",
    "os.environ['CUDA_VISIBLE_DEVICES'] = '0,1'\n",
    "\n",
    "# set logger to only show info messages\n",
    "logger.remove()\n",
    "logger.add(sys.stdout, level=\"INFO\")\n"
   ]
  },
  {
   "cell_type": "code",
   "execution_count": 2,
   "metadata": {},
   "outputs": [],
   "source": [
    "dataset = 'mmlu_gsm8k'\n",
    "data_folder = '../data/free_form'\n",
    "\n",
    "train_model_answers = pd.read_json(os.path.join(data_folder, dataset, 'train', 'model_answers.json'))\n",
    "train_costs = pd.read_json(os.path.join(data_folder, dataset, 'train', 'costs.json'))\n",
    "train_qualities = pd.read_json(os.path.join(data_folder, dataset, 'train', 'qualities.json'))\n",
    "train_queries = pd.read_json(os.path.join(data_folder, dataset, 'train', 'queries.json'))\n",
    "test_model_answers = pd.read_json(os.path.join(data_folder, dataset, 'test', 'model_answers.json'))\n",
    "test_costs = pd.read_json(os.path.join(data_folder, dataset, 'test', 'costs.json'))\n",
    "test_qualities = pd.read_json(os.path.join(data_folder, dataset, 'test', 'qualities.json'))\n",
    "test_queries = pd.read_json(os.path.join(data_folder, dataset, 'test', 'queries.json'))\n",
    "\n",
    "train_queries = list(train_queries.apply(lambda x: [x[0][0][1] + '\\nQuestion: ' + x[1][1] + '\\nAnswer:' + x[2][1] + '\\nQuestion:' + x[3][1]] + x[0][1:], axis=1))\n",
    "test_queries = list(test_queries.apply(lambda x: [x[0][0][1] + '\\nQuestion: ' + x[1][1] + '\\nAnswer:' + x[2][1] + '\\nQuestion:' + x[3][1]] + x[0][1:], axis=1))"
   ]
  },
  {
   "cell_type": "code",
   "execution_count": 3,
   "metadata": {},
   "outputs": [],
   "source": [
    "def convert_to_numpy(model_answers, costs, qualities, models):\n",
    "    model_answers = model_answers[models].values\n",
    "    for i in range(len(model_answers)):\n",
    "        for j in range(len(model_answers[i])):\n",
    "            model_answers[i, j][1] = np.array(model_answers[i, j][1])\n",
    "    costs = costs[models].values\n",
    "    qualities = qualities[models].values\n",
    "    return model_answers, costs, qualities"
   ]
  },
  {
   "cell_type": "code",
   "execution_count": 4,
   "metadata": {},
   "outputs": [],
   "source": [
    "test_qualities_averaged = test_qualities.mean(axis=0)\n",
    "test_costs_averaged = test_costs.mean(axis=0)"
   ]
  },
  {
   "cell_type": "code",
   "execution_count": 5,
   "metadata": {},
   "outputs": [],
   "source": [
    "train_qualities_averaged = train_qualities.mean(axis=0)\n",
    "train_costs_averaged = train_costs.mean(axis=0)"
   ]
  },
  {
   "cell_type": "code",
   "execution_count": 6,
   "metadata": {},
   "outputs": [
    {
     "data": {
      "text/plain": [
       "(meta-llama/Meta-Llama-3.1-8B-Instruct-Turbo      0.613338\n",
       " meta-llama/Meta-Llama-3.1-70B-Instruct-Turbo     0.787159\n",
       " meta-llama/Meta-Llama-3.1-405B-Instruct-Turbo    0.825470\n",
       " google/gemma-2-9b-it                             0.595956\n",
       " google/gemma-2-27b-it                            0.654487\n",
       " google/gemma-2b-it                               0.105002\n",
       " mistralai/Mistral-7B-Instruct-v0.3               0.395530\n",
       " mistralai/Mixtral-8x22B-Instruct-v0.1            0.668677\n",
       " mistralai/Mixtral-8x7B-Instruct-v0.1             0.521107\n",
       " dtype: float64,\n",
       " meta-llama/Meta-Llama-3.1-8B-Instruct-Turbo      0.000117\n",
       " meta-llama/Meta-Llama-3.1-70B-Instruct-Turbo     0.000549\n",
       " meta-llama/Meta-Llama-3.1-405B-Instruct-Turbo    0.003132\n",
       " google/gemma-2-9b-it                             0.000187\n",
       " google/gemma-2-27b-it                            0.000503\n",
       " google/gemma-2b-it                               0.000047\n",
       " mistralai/Mistral-7B-Instruct-v0.3               0.000138\n",
       " mistralai/Mixtral-8x22B-Instruct-v0.1            0.000769\n",
       " mistralai/Mixtral-8x7B-Instruct-v0.1             0.000398\n",
       " dtype: float64)"
      ]
     },
     "execution_count": 6,
     "metadata": {},
     "output_type": "execute_result"
    }
   ],
   "source": [
    "test_qualities_averaged, test_costs_averaged"
   ]
  },
  {
   "cell_type": "code",
   "execution_count": 7,
   "metadata": {},
   "outputs": [
    {
     "data": {
      "text/plain": [
       "(meta-llama/Meta-Llama-3.1-8B-Instruct-Turbo      0.682667\n",
       " meta-llama/Meta-Llama-3.1-70B-Instruct-Turbo     0.810333\n",
       " meta-llama/Meta-Llama-3.1-405B-Instruct-Turbo    0.859667\n",
       " google/gemma-2-9b-it                             0.636667\n",
       " google/gemma-2-27b-it                            0.676333\n",
       " google/gemma-2b-it                               0.093667\n",
       " mistralai/Mistral-7B-Instruct-v0.3               0.415667\n",
       " mistralai/Mixtral-8x22B-Instruct-v0.1            0.685000\n",
       " mistralai/Mixtral-8x7B-Instruct-v0.1             0.544000\n",
       " dtype: float64,\n",
       " meta-llama/Meta-Llama-3.1-8B-Instruct-Turbo      0.000113\n",
       " meta-llama/Meta-Llama-3.1-70B-Instruct-Turbo     0.000533\n",
       " meta-llama/Meta-Llama-3.1-405B-Instruct-Turbo    0.003012\n",
       " google/gemma-2-9b-it                             0.000182\n",
       " google/gemma-2-27b-it                            0.000489\n",
       " google/gemma-2b-it                               0.000046\n",
       " mistralai/Mistral-7B-Instruct-v0.3               0.000136\n",
       " mistralai/Mixtral-8x22B-Instruct-v0.1            0.000744\n",
       " mistralai/Mixtral-8x7B-Instruct-v0.1             0.000391\n",
       " dtype: float64)"
      ]
     },
     "execution_count": 7,
     "metadata": {},
     "output_type": "execute_result"
    }
   ],
   "source": [
    "train_qualities_averaged, train_costs_averaged"
   ]
  },
  {
   "cell_type": "code",
   "execution_count": 8,
   "metadata": {},
   "outputs": [],
   "source": [
    "def prediction(cascader, questions, qualities, costs, actual_answers, models, is_router=False):\n",
    "    qualities_output = []\n",
    "    costs_output = []\n",
    "    models_run = []\n",
    "    selected_models = []\n",
    "    for i, question in enumerate(questions):\n",
    "        model_answers = [[None for _ in range(len(qualities[i]))]]\n",
    "        cost = 0\n",
    "        models_run_question = []\n",
    "        for step in range(len(model_answers[0])):\n",
    "            model = cascader.predict([question], model_answers)\n",
    "            if model[0] is None:\n",
    "                break\n",
    "            else:\n",
    "                model_index = models.index(model[0])\n",
    "                models_run_question.append(model_index)\n",
    "                model_answers[0][model_index] = actual_answers[i][model_index]\n",
    "                cost += costs[i][model_index]\n",
    "            if is_router:\n",
    "                break\n",
    "        selected_answer = cascader.select_answer([question], model_answers)\n",
    "        selected_model = models.index(selected_answer[0])\n",
    "        quality = qualities[i][models.index(selected_answer[0])]\n",
    "        qualities_output.append(quality)\n",
    "        costs_output.append(cost)\n",
    "        models_run.append(','.join([str(model) for model in models_run_question]))\n",
    "        selected_models.append(selected_model)\n",
    "    counter = Counter(models_run)\n",
    "    counter_selected = Counter(selected_models)\n",
    "    return {\n",
    "        'quality': np.mean(qualities_output),\n",
    "        'cost': np.mean(costs_output),\n",
    "        'models_run': counter,\n",
    "        'selected_models': counter_selected,\n",
    "        'lambdas': list(cascader.get_lambdas())\n",
    "    }"
   ]
  },
  {
   "cell_type": "code",
   "execution_count": 9,
   "metadata": {},
   "outputs": [],
   "source": [
    "all_models = [\n",
    "        {\n",
    "            'name': 'meta-llama/Meta-Llama-3.1-8B-Instruct-Turbo',\n",
    "            'huggingface_name': 'meta-llama/Meta-Llama-3.1-8B-Instruct',\n",
    "            'read_cost': 0.18 * 10 ** -6,\n",
    "            'write_cost': 0.18 * 10 ** -6\n",
    "        },\n",
    "        {\n",
    "            'name': 'meta-llama/Meta-Llama-3.1-70B-Instruct-Turbo',\n",
    "            'huggingface_name': 'meta-llama/Meta-Llama-3.1-70B-Instruct',\n",
    "            'read_cost': 0.88 * 10 ** -6,\n",
    "            'write_cost': 0.88 * 10 ** -6\n",
    "        },\n",
    "        {\n",
    "            'name': 'google/gemma-2-9b-it',\n",
    "            'read_cost': 0.3 * 10 ** -6,\n",
    "            'write_cost': 0.3 * 10 ** -6\n",
    "        },\n",
    "        {\n",
    "            'name': 'google/gemma-2-27b-it',\n",
    "            'read_cost': 0.8 * 10 ** -6,\n",
    "            'write_cost': 0.8 * 10 ** -6\n",
    "        },\n",
    "        {\n",
    "            'name': 'google/gemma-2b-it',\n",
    "            'read_cost': 0.1 * 10 ** -6,\n",
    "            'write_cost': 0.1 * 10 ** -6\n",
    "        },\n",
    "        {\n",
    "            'name': 'mistralai/Mistral-7B-Instruct-v0.3',\n",
    "            'read_cost': 0.2 * 10 ** -6,\n",
    "            'write_cost': 0.2 * 10 ** -6\n",
    "        },\n",
    "        {\n",
    "            'name': 'mistralai/Mixtral-8x22B-Instruct-v0.1',\n",
    "            'read_cost': 1.2 * 10 ** -6,\n",
    "            'write_cost': 1.2 * 10 ** -6\n",
    "        },\n",
    "        {\n",
    "            'name': 'mistralai/Mixtral-8x7B-Instruct-v0.1',\n",
    "            'read_cost': 0.6 * 10 ** -6,\n",
    "            'write_cost': 0.6 * 10 ** -6\n",
    "        },\n",
    "    ]"
   ]
  },
  {
   "cell_type": "code",
   "execution_count": 10,
   "metadata": {},
   "outputs": [],
   "source": [
    "\n",
    "class MinMaxLinearRegression(LinearRegression):\n",
    "    def predict(self, X):\n",
    "        return np.clip(super().predict(X), 0, 1)\n",
    "\n",
    "def log_reg():\n",
    "    return MinMaxLinearRegression()"
   ]
  },
  {
   "cell_type": "code",
   "execution_count": 11,
   "metadata": {},
   "outputs": [],
   "source": [
    "from sklearn.svm import SVR\n",
    "from sklearn.linear_model import Ridge\n",
    "from sklearn.neighbors import KNeighborsRegressor\n",
    "from sklearn.ensemble import RandomForestRegressor\n",
    "\n",
    "quality_computer_baseline = OpenFormQualityComputer(\n",
    "        model_class=lambda: LogisticRegression(max_iter=1000),\n",
    "        require_constant_not_run=False,\n",
    "        baseline=True,\n",
    "        include_question_embedding=False,\n",
    "        do_cosine_similarity=False,\n",
    "        n_training_samples=128,\n",
    "        is_regression=False,\n",
    "        all_model_combinations=False,\n",
    "        baseline_feature='mean'\n",
    "    )\n",
    "quality_computer = OpenFormQualityComputer(\n",
    "        model_class=lambda: RandomForestClassifier(max_depth=1),\n",
    "        require_constant_not_run=False,\n",
    "        baseline=False,\n",
    "        include_question_embedding=False,\n",
    "        do_cosine_similarity=False,\n",
    "        n_training_samples=128,\n",
    "        is_regression=False,\n",
    "        all_model_combinations=True,\n",
    "        store_all=True,\n",
    "        include_all_models=False\n",
    "    )"
   ]
  },
  {
   "cell_type": "code",
   "execution_count": 12,
   "metadata": {},
   "outputs": [],
   "source": [
    "models = [all_models[0], all_models[1], all_models[2]]\n",
    "\n",
    "model_names = [model['name'] for model in models]\n",
    "train_model_answers_here, train_costs_here, train_qualities_here = convert_to_numpy(train_model_answers, train_costs, train_qualities, model_names)"
   ]
  },
  {
   "cell_type": "code",
   "execution_count": 13,
   "metadata": {},
   "outputs": [
    {
     "name": "stderr",
     "output_type": "stream",
     "text": [
      "Model 0: 100%|██████████| 8/8 [00:01<00:00,  5.23it/s]\n",
      "Model 1: 100%|██████████| 8/8 [00:01<00:00,  6.16it/s]\n",
      "Model 2: 100%|██████████| 8/8 [00:01<00:00,  5.83it/s]\n"
     ]
    }
   ],
   "source": [
    "quality_computer.fit(train_queries[:1500], train_model_answers_here[:1500], train_qualities_here[:1500])"
   ]
  },
  {
   "cell_type": "code",
   "execution_count": 14,
   "metadata": {},
   "outputs": [],
   "source": [
    "quality_computer_baseline.fit(train_queries[:1500], train_model_answers_here[:1500], train_qualities_here[:1500])"
   ]
  },
  {
   "cell_type": "code",
   "execution_count": 15,
   "metadata": {},
   "outputs": [
    {
     "name": "stdout",
     "output_type": "stream",
     "text": [
      "0\n",
      "Time: 0.3213496208190918\n",
      "Model accuracies: [0.7246666666666667, 0.818, 0.7533333333333333]\n",
      "Model losses: [0.32724806664044115, 0.2507200916365273, 0.3239515557311815]\n",
      "Normal losses: 0.0677273139609472\n",
      "Model accuracies baseline: [0.6846666666666666, 0.818, 0.6426666666666667]\n",
      "Model losses baseline: [0.43327377777777776, 0.307504, 0.4627164444444445]\n",
      "Normal losses baseline: 0\n",
      "1\n",
      "Time: 0.01784491539001465\n",
      "Model accuracies: [0.7586666666666667, 0.818, 0.7533333333333333]\n",
      "Model losses: [0.33320405911743284, 0.25095772090184426, 0.323610245070331]\n",
      "Normal losses: 0.06502160545446456\n",
      "Model accuracies baseline: [0.738, 0.818, 0.6426666666666667]\n",
      "Model losses baseline: [0.35733354563549224, 0.307504, 0.4627164444444445]\n",
      "Normal losses baseline: 0\n",
      "2\n",
      "Time: 0.017685890197753906\n",
      "Model accuracies: [0.8613333333333333, 0.818, 0.7533333333333333]\n",
      "Model losses: [0.2959633946988524, 0.2503908167425938, 0.3244285631275072]\n",
      "Normal losses: 0.0998912015251974\n",
      "Model accuracies baseline: [0.7026666666666667, 0.8213333333333334, 0.6426666666666667]\n",
      "Model losses baseline: [0.34111495226905664, 0.2615748449498159, 0.4627164444444445]\n",
      "Normal losses baseline: 0\n",
      "3\n",
      "Time: 0.017787456512451172\n",
      "Model accuracies: [0.874, 0.818, 0.8673333333333333]\n",
      "Model losses: [0.2696447839792449, 0.24918858386048529, 0.2672476730706749]\n",
      "Normal losses: nan\n",
      "Model accuracies baseline: [0.7133333333333334, 0.78, 0.734]\n",
      "Model losses baseline: [0.3871298130279868, 0.3619010391798682, 0.37665346998125293]\n",
      "Normal losses baseline: 0\n"
     ]
    },
    {
     "name": "stderr",
     "output_type": "stream",
     "text": [
      "/tmp/ipykernel_4140877/2677689667.py:10: RuntimeWarning: divide by zero encountered in divide\n",
      "  W_i = eigvecs @ np.diag(1.0 / np.sqrt(eigvals)) @ eigvecs.T\n",
      "/tmp/ipykernel_4140877/2677689667.py:10: RuntimeWarning: invalid value encountered in matmul\n",
      "  W_i = eigvecs @ np.diag(1.0 / np.sqrt(eigvals)) @ eigvecs.T\n"
     ]
    }
   ],
   "source": [
    "import time\n",
    "\n",
    "def whiten_samples(samples, covariances):\n",
    "    whitened_samples = []\n",
    "    for x_i, sigma_i in zip(samples, covariances):\n",
    "        # Eigenvalue decomposition\n",
    "        eigvals, eigvecs = np.linalg.eigh(sigma_i)\n",
    "        \n",
    "        # Construct the whitening matrix\n",
    "        W_i = eigvecs @ np.diag(1.0 / np.sqrt(eigvals)) @ eigvecs.T\n",
    "        \n",
    "        # Apply the whitening matrix\n",
    "        y_i = W_i @ x_i\n",
    "        whitened_samples.append(y_i)\n",
    "        \n",
    "    return np.array(whitened_samples)\n",
    "\n",
    "\n",
    "def compute_accuracy_per_model(real, predictions, var_predictions, predictions_all=None):\n",
    "    model_accuracies = []\n",
    "    model_losses = []\n",
    "    normal_losses = []\n",
    "    for model in range(real.shape[1]):\n",
    "        predictions_acc = (predictions[:, model] > 0.5).astype(int)\n",
    "        real_acc = real[:, model]\n",
    "        model_accuracies.append(np.mean(predictions_acc == real_acc))\n",
    "        # model_losses.append(np.mean(np.log(predictions[:, model]) * real[:, model] + np.log(1 - predictions[:, model]) * (1 - real[:, model])))\n",
    "        # absolute error\n",
    "        model_losses.append(np.mean(np.abs(predictions[:, model] - real[:, model])))\n",
    "    \n",
    "    if predictions_all is None:\n",
    "        normal_losses = 0\n",
    "    else:\n",
    "        normal_unit_converted = whiten_samples(predictions - predictions_all, var_predictions)\n",
    "        cov = np.cov(normal_unit_converted.T)\n",
    "        # compute distance between cov and identity matrix\n",
    "        normal_losses = np.linalg.norm(cov - np.eye(cov.shape[0]))\n",
    "    return model_accuracies, model_losses, normal_losses\n",
    "\n",
    "for n_answers in range(4):\n",
    "    print(n_answers)\n",
    "    train_here = train_model_answers_here[1500:].copy()\n",
    "\n",
    "    t = time.time()\n",
    "    predictions_all, _ = quality_computer.predict(\n",
    "        train_queries[1500:], train_model_answers_here[1500:]\n",
    "    )\n",
    "    print('Time:', time.time() - t)\n",
    "    predictions_all_baseline, _ = quality_computer_baseline.predict(\n",
    "        train_queries[1500:], train_model_answers_here[1500:]\n",
    "    )\n",
    "\n",
    "    for index in range(len(train_here)):\n",
    "        for j in range(len(train_here[index]) - 1, n_answers - 1, -1):\n",
    "            train_here[index][j] = None\n",
    "\n",
    "    predictions, var_predictions = quality_computer.predict(\n",
    "        train_queries[1500:], train_here\n",
    "    )\n",
    "\n",
    "    predictions_baseline, var_predictions_baseline = quality_computer_baseline.predict(\n",
    "        train_queries[1500:], train_here\n",
    "    )\n",
    "\n",
    "    model_accuracies, model_losses, normal_losses = compute_accuracy_per_model(train_qualities_here[1500:], predictions, var_predictions, predictions_all)\n",
    "    print('Model accuracies:', model_accuracies)\n",
    "    print('Model losses:', model_losses)\n",
    "    print('Normal losses:', normal_losses)\n",
    "    model_accuracies_baseline, model_losses_baseline, normal_losses_baseline = compute_accuracy_per_model(train_qualities_here[1500:], predictions_baseline, var_predictions_baseline)\n",
    "    print('Model accuracies baseline:', model_accuracies_baseline)\n",
    "    print('Model losses baseline:', model_losses_baseline)\n",
    "    print('Normal losses baseline:', normal_losses_baseline)"
   ]
  },
  {
   "cell_type": "code",
   "execution_count": 31,
   "metadata": {},
   "outputs": [
    {
     "data": {
      "text/plain": [
       "([1.0,\n",
       "  0.0,\n",
       "  0.1,\n",
       "  -0.9844693852359999,\n",
       "  -0.4068055310892562,\n",
       "  -8.375,\n",
       "  -0.026550292500000003,\n",
       "  5.488937726156687,\n",
       "  1],\n",
       " 1)"
      ]
     },
     "execution_count": 31,
     "metadata": {},
     "output_type": "execute_result"
    }
   ],
   "source": [
    "index = 660\n",
    "quality_computer.generate_sample_input_output(train_queries[index], 0, 3, [train_model_answers_here[index][0], None, None], train_qualities_here[index])"
   ]
  },
  {
   "cell_type": "code",
   "execution_count": 13,
   "metadata": {},
   "outputs": [],
   "source": [
    "from transformers import AutoTokenizer\n",
    "\n",
    "tokenizers = [\n",
    "    AutoTokenizer.from_pretrained(model['name']) for model in models\n",
    "]\n",
    "input_costs = [\n",
    "    model['read_cost'] for model in models\n",
    "]\n",
    "\n",
    "output_costs = [\n",
    "    model['write_cost'] for model in models\n",
    "]\n",
    "\n",
    "cost_computer = OpenFormCostComputer(input_costs, output_costs, tokenizers, store_all=False)"
   ]
  },
  {
   "cell_type": "code",
   "execution_count": 14,
   "metadata": {},
   "outputs": [],
   "source": [
    "cost_computer.fit(train_queries[:600], train_model_answers_here[:600], train_costs[:600])"
   ]
  },
  {
   "cell_type": "code",
   "execution_count": 15,
   "metadata": {},
   "outputs": [],
   "source": [
    "prediction = cost_computer.predict(train_queries[600:], [[None, None, None] for index in range(len(train_queries[600:]))])"
   ]
  },
  {
   "cell_type": "code",
   "execution_count": 35,
   "metadata": {},
   "outputs": [
    {
     "data": {
      "text/plain": [
       "array([[0.0001252, 0.0003996, 0.0007752],\n",
       "       [0.0001694, 0.0005094, 0.0010176],\n",
       "       [0.000343 , 0.0008676, 0.0018966],\n",
       "       ...,\n",
       "       [0.0001402, 0.0004776, 0.0008982],\n",
       "       [0.0001246, 0.000387 , 0.0007608],\n",
       "       [0.000153 , 0.0004692, 0.0009282]])"
      ]
     },
     "execution_count": 35,
     "metadata": {},
     "output_type": "execute_result"
    }
   ],
   "source": [
    "prediction[0]"
   ]
  },
  {
   "cell_type": "code",
   "execution_count": 22,
   "metadata": {},
   "outputs": [
    {
     "data": {
      "text/plain": [
       "array([[0.000128 , 0.000411 , 0.0007572],\n",
       "       [0.0001722, 0.0005208, 0.001092 ],\n",
       "       [0.0003458, 0.000879 , 0.0015336],\n",
       "       ...,\n",
       "       [0.000143 , 0.000489 , 0.000954 ],\n",
       "       [0.0001274, 0.0003984, 0.0007884],\n",
       "       [0.0001556, 0.00048  , 0.0010092]])"
      ]
     },
     "execution_count": 22,
     "metadata": {},
     "output_type": "execute_result"
    }
   ],
   "source": [
    "train_costs_here[600:]"
   ]
  },
  {
   "cell_type": "code",
   "execution_count": 31,
   "metadata": {},
   "outputs": [
    {
     "name": "stdout",
     "output_type": "stream",
     "text": [
      "[[1, 2559, 13649, 1040, 3466, 1070, 1032, 25179, 1163, 5822, 16555, 1070, 26226, 29473, 29508, 29502, 29493, 29473, 29508, 29518, 29493, 1072, 29473, 29508, 29550, 29493, 1246, 1309, 1706, 3352, 1034, 29510, 29481, 12071, 29493, 1458, 1117, 8426, 1507, 1040, 9248, 1228, 1227, 2846, 29491, 3352, 1034, 29510, 29481, 12071, 5373, 1137, 1040, 3466, 1093, 29509, 29499, 1070, 1032, 25179, 1163, 2849, 26226, 1032, 29493, 1055, 29493, 1072, 1045, 1117, 2846, 1254, 29515, 781, 781, 29509, 1095, 19096, 3344, 29560, 29481, 29500, 29481, 29501, 29476, 4615, 29481, 29501, 29494, 4615, 29481, 29501, 29485, 5521, 781, 781, 3724, 1036, 1117, 1040, 13342, 29501, 1255, 17427, 29493, 1458, 1117, 14275, 1158, 1040, 5919, 1070, 1040, 2849, 26226, 1093, 29481, 1095, 1093, 29476, 29574, 29494, 29574, 29485, 10978, 29518, 1377, 1328, 1224, 1990, 29493, 1093, 29476, 29514, 29508, 29502, 1325, 1093, 29494, 29514, 29508, 29518, 1325, 1072, 1093, 29485, 29514, 29508, 29550, 1377, 781, 781, 8257, 29493, 1246, 14679, 1036, 29515, 781, 29481, 1095, 1093, 29508, 29502, 1416, 29473, 29508, 29518, 1416, 29473, 29508, 29550, 29499, 1500, 29473, 29518, 781, 29481, 1095, 29473, 29538, 29555, 1500, 29473, 29518, 781, 29481, 1095, 29473, 29508, 29551, 29491, 29550, 781, 781, 9247, 1246, 1309, 17373, 1040, 3837, 1546, 3352, 1034, 29510, 29481, 12071, 29515, 781, 781, 29509, 1095, 19096, 3344, 29560, 29508, 29551, 29491, 29550, 29500, 29508, 29551, 29491, 29550, 29501, 29508, 29502, 4615, 29508, 29551, 29491, 29550, 29501, 29508, 29518, 4615, 29508, 29551, 29491, 29550, 29501, 29508, 29550, 5521, 781, 29509, 1095, 19096, 3344, 29560, 29508, 29551, 29491, 29550, 29500, 29551, 29491, 29550, 4615, 29552, 29491, 29550, 4615, 29538, 29491, 29550, 5521, 781, 29509, 1095, 19096, 3344, 29560, 29508, 29508, 29555, 29542, 29538, 29491, 29518, 29550, 29561, 781, 29509, 29473, 30756, 29473, 29508, 29502, 29551, 29491, 29538, 29518, 781, 781, 1782, 3466, 1070, 1040, 25179, 1117, 11638, 29473, 29508, 29502, 29551, 29491, 29538, 29518, 8698, 8775, 29491, 3761, 29493, 2622, 1246, 1422, 2846, 3645, 1066, 5755, 1245, 29493, 2114, 29510, 29481, 1800, 1458, 4319, 9787, 1040, 17192, 1066, 1581, 14275, 3466, 29491, 1183, 17192, 4319, 1117, 1093, 29517, 29499, 29473, 29508, 29518, 29502, 29524, 6608, 29519, 29508, 29550, 1649, 1458, 1117, 1227, 7298, 1066, 1040, 14275, 3466, 29493, 1330, 1040, 17192, 18604, 29491, 3761, 29493, 1281, 1246, 1228, 3294, 1122, 1040, 5482, 5140, 1245, 1040, 2846, 3645, 29493, 1146, 1117, 1227, 1093, 29517, 29499, 2622, 1040, 2846, 3645, 1228, 1227, 4227, 9787, 29491, 2305, 29493, 1040, 5140, 1117, 1093, 29517, 29499, 1117, 1227, 1040, 5482, 5140, 29491, 1183, 5482, 5140, 1450, 1115, 1040, 1392, 1137, 9787, 1040, 14275, 3466, 29493, 1458, 1117, 1227, 4625, 1065, 1040, 2846, 3645, 29491], [1, 415, 2698, 302, 264, 24411, 349, 2078, 486, 272, 11303, 28747, 13, 12026, 327, 325, 2893, 1318, 5110, 28731, 732, 28705, 28750, 13, 13, 2324, 460, 2078, 272, 25458, 302, 272, 1712, 5054, 15787, 302, 272, 24411, 28725, 690, 460, 835, 272, 25458, 302, 272, 1712, 8480, 302, 272, 24411, 28723, 28705, 13, 13, 8779, 28742, 28713, 938, 2584, 266, 28742, 28713, 11303, 298, 13911, 272, 12574, 28733, 487, 16659, 304, 2698, 302, 272, 24411, 28723, 2584, 266, 28742, 28713, 11303, 349, 1307, 739, 1712, 8480, 302, 264, 24411, 460, 2078, 28723, 13, 13, 8779, 264, 327, 28705, 28740, 28734, 28725, 287, 327, 28705, 28740, 28750, 28725, 304, 277, 327, 28705, 28740, 28782, 28723, 13, 13, 28735, 17957, 28733, 487, 16659, 349, 268, 327, 325, 28708, 648, 287, 648, 277, 28731, 732, 28705, 28750, 327, 325, 28740, 28734, 648, 28705, 28740, 28750, 648, 28705, 28740, 28782, 28731, 732, 28705, 28750, 327, 28705, 28740, 28783, 13, 13, 12026, 327, 18328, 2576, 28792, 28713, 28732, 28713, 28733, 28708, 3847, 28713, 28733, 28726, 3847, 28713, 28733, 28717, 4753, 13, 13, 12026, 327, 18328, 2576, 28792, 28740, 28783, 28732, 28740, 28783, 28733, 28740, 28734, 3847, 28740, 28783, 28733, 28740, 28750, 3847, 28740, 28783, 28733, 28740, 28782, 4753, 327, 18328, 2576, 28792, 28740, 28783, 28736, 28783, 28736, 28784, 28736, 28770, 28793, 13, 13, 12026, 327, 18328, 2576, 28792, 28750, 28770, 28734, 28781, 28793, 327, 28705, 28781, 28783, 13, 13, 1014, 2698, 302, 272, 24411, 349, 28705, 28781, 28783, 7930, 8007, 28723, 13, 13, 5816, 994, 28725, 272, 4714, 4372, 349, 384, 28747, 28705, 28781, 28783, 7930, 5557, 28732, 28740, 28782, 609, 13, 13, 27955, 28725, 378, 3969, 736, 349, 264, 11990, 297, 272, 4372, 10475, 28725, 390, 6547, 302, 706, 9019, 28705, 28781, 28783, 7930, 8007, 28723, 5919, 312, 2888, 272, 4372, 10475, 28723], None]\n",
      "[[1, 1183, 26614, 1070, 8059, 1070, 6379, 3077, 1117, 1158, 6872, 29515, 1093, 29508, 29499, 4131, 1265, 29493, 1093, 29518, 29499, 3228, 1396, 6379, 3077, 29493, 1072, 1093, 29538, 29499, 3720, 14586, 1070, 3077, 29491, 16192, 1265, 1072, 3228, 1396, 6379, 3077, 1228, 2328, 7026, 8059, 1070, 6379, 3077, 29493, 2080, 3720, 14586, 1070, 3077, 1228, 1032, 14229, 3600, 29491, 9237, 29493, 5140, 1093, 29533, 29499, 1117, 1040, 17192, 1066, 1040, 5482, 5140, 29491, 3761, 29493, 1146, 1791, 1115, 9427, 1137, 1040, 3764, 13141, 1122, 1040, 4526, 2212, 1040, 10675, 8059, 1070, 6379, 3077, 29493, 1458, 12918, 1032, 26614, 29491, 27075, 1093, 29537, 29499, 1117, 17158, 1864, 1146, 13076, 1137, 3228, 26434, 20892, 4131, 1265, 29493, 1330, 1065, 7708, 29493, 2328, 3228, 1072, 4131, 1265, 1228, 5293, 14155, 3046, 7026, 8059, 1070, 6379, 3077, 29491, 27075, 1093, 29505, 29499, 1117, 1603, 17158, 1864, 1146, 13076, 1137, 3720, 14586, 1070, 3077, 26434, 7265, 2328, 3228, 1072, 4131, 1265, 29493, 1458, 1117, 1227, 1040, 1990, 29491, 27075, 1093, 29566, 29499, 1117, 17158, 1864, 1146, 13076, 1137, 1504, 1117, 1476, 26614, 2212, 1040, 10675, 8059, 1070, 6379, 3077, 29493, 1458, 1117, 1227, 11997, 29491, 27075, 1093, 29509, 29499, 1117, 17158, 1864, 1146, 13076, 1137, 4131, 1265, 26434, 7265, 3228, 29493, 1330, 1065, 7708, 29493, 2328, 1228, 5293, 14155, 3046, 7026, 8059, 1070, 6379, 3077, 29491, 9237, 29493, 1040, 5482, 5140, 1117, 1093, 29545, 2097, 2155, 1117, 1032, 26614, 29493, 1330, 1146, 28718, 1245, 1990, 1066, 1990, 29491, 3761, 29493, 1065, 3720, 29493, 4131, 1265, 2156, 12173, 1404, 1522, 3228, 1396, 6379, 3077, 29493, 2080, 3720, 14586, 1070, 3077, 1228, 1032, 14229, 3600, 29491], [1, 415, 3758, 1444, 272, 9907, 7291, 302, 5611, 2309, 390, 9256, 297, 272, 9248, 1723, 302, 272, 5440, 6924, 302, 13142, 325, 1604, 28798, 28731, 460, 390, 6104, 28747, 2460, 28725, 3363, 497, 28725, 304, 2952, 13818, 302, 2309, 28723, 7404, 5867, 9549, 304, 3453, 742, 302, 272, 1080, 6416, 14786, 798, 1583, 460, 459, 9907, 7291, 302, 5611, 2309, 28725, 562, 590, 541, 347, 1307, 390, 11994, 10064, 628, 2825, 354, 272, 20051, 302, 5879, 302, 2309, 28723, 8469, 28725, 478, 541, 20545, 2877, 384, 304, 413, 28723, 7664, 475, 349, 459, 8134, 4714, 28725, 1854, 2460, 349, 2598, 390, 264, 2832, 302, 2309, 7126, 477, 3363, 497, 28723, 8469, 28725, 736, 349, 264, 3758, 1444, 2460, 304, 3363, 497, 28723, 2993, 28725, 272, 9248, 1723, 302, 272, 18587, 28798, 1235, 459, 15956, 2111, 264, 9654, 1161, 745, 3758, 1444, 2460, 304, 3363, 497, 28723, 12478, 28725, 3551, 475, 349, 459, 272, 4714, 4372, 28723, 17158, 356, 272, 9248, 1723, 302, 272, 18587, 28798, 28725, 272, 4372, 349, 3551, 475, 28747, 736, 349, 708, 25846, 1444, 272, 9907, 7291, 302, 5611, 2309, 28723, 2993, 28725, 297, 5245, 28725, 741, 11405, 788, 506, 6740, 369, 3363, 497, 541, 1388, 11405, 636, 754, 2460, 297, 2552, 11846, 28723, 7664, 330, 28725, 365, 28725, 334, 28725, 401, 28725, 382, 28725, 304, 315, 541, 347, 272, 1222, 10085, 356, 272, 10139, 28723, 7664, 420, 349, 272, 1080, 11229, 297, 5245, 28725, 562, 378, 349, 459, 272, 16424, 298, 272, 9907, 7526, 297, 272, 9248, 1723, 302, 272, 18587, 28798, 28723], None]\n",
      "[[1, 1183, 1407, 4721, 1240, 1070, 8770, 1117, 10334, 7285, 1507, 23630, 1274, 1448, 1495, 1066, 10189, 1066, 4912, 5203, 29493, 1210, 5140, 1093, 29545, 1377, 1619, 1117, 1864, 1507, 23630, 1274, 1448, 1495, 29493, 1358, 1309, 8160, 1420, 5653, 6925, 1254, 7256, 1210, 9280, 4474, 15159, 2027, 1158, 8347, 29493, 9203, 7837, 29493, 1072, 27282, 29491, 2452, 23630, 1274, 2876, 1495, 29493, 1146, 1117, 1448, 4564, 1122, 1474, 1066, 10189, 12234, 1066, 4912, 5203, 29493, 1072, 1040, 1407, 4721, 1240, 1070, 8770, 1117, 4657, 29491], [1, 415, 639, 3953, 472, 302, 8002, 349, 264, 5266, 302, 272, 3559, 9992, 302, 272, 15069, 16584, 298, 264, 2268, 297, 272, 4144, 302, 264, 1179, 442, 2372, 28723, 661, 349, 9566, 6517, 739, 22862, 460, 2358, 298, 4377, 304, 5061, 7392, 652, 4885, 6157, 297, 2899, 298, 4144, 4435, 28723, 1133, 6014, 404, 460, 680, 3917, 298, 347, 2358, 298, 511, 456, 739, 590, 506, 2108, 5565, 24161, 297, 272, 4885, 1759, 28725, 16130, 9285, 11282, 298, 7072, 28725, 680, 727, 298, 9421, 298, 4144, 4435, 28725, 304, 460, 459, 10513, 3065, 272, 11656, 302, 652, 4885, 8444, 28723, 8469, 28725, 272, 4372, 10475, 460, 325, 28741, 557, 325, 28757, 557, 325, 28777, 557, 304, 325, 28743, 609, 2993, 28725, 478, 1580, 1917, 272, 6153, 302, 13473, 6403, 28723, 1684, 22862, 460, 916, 2108, 13473, 6403, 28725, 590, 993, 459, 1601, 272, 927, 298, 2268, 652, 4885, 6157, 297, 2899, 298, 4144, 4435, 28725, 5374, 298, 3889, 639, 3953, 472, 302, 8002, 28723, 8469, 28725, 272, 4372, 349, 325, 28741, 1329, 22862, 506, 2108, 5565, 298, 2631, 28723], None]\n",
      "[[1, 1183, 5482, 5140, 1117, 1093, 29509, 29499, 1822, 1247, 13498, 1031, 28249, 29491, 1429, 1117, 1032, 1428, 1910, 1046, 1068, 1050, 18172, 1137, 21545, 1040, 4867, 1072, 1676, 1070, 1428, 1910, 1046, 29316, 29493, 1458, 1228, 2938, 9436, 6058, 1065, 4886, 2192, 1143, 8205, 10305, 29491, 1183, 1567, 5099, 9974, 1228, 1227, 1428, 1910, 1046, 1068, 1050, 26005, 29491], [1, 2744, 1142, 278, 300, 282, 25237, 460, 19869, 4331, 369, 5197, 272, 908, 302, 660, 1142, 278, 28548, 28725, 690, 460, 25983, 1564, 28733, 7250, 2170, 8668, 1419, 297, 272, 8894, 302, 544, 8222, 28725, 9923, 28725, 304, 2930, 16905, 28723, 2744, 1142, 278, 28548, 506, 2856, 5572, 2490, 11313, 1060, 1215, 1043, 7650, 6370, 884, 1183, 2298, 28725, 13606, 2053, 3864, 911, 663, 11144, 2298, 28725, 304, 1276, 1142, 6219, 2552, 18882, 1083, 8732, 28723, 1054, 479, 12730, 263, 27481, 349, 264, 660, 1142, 278, 300, 282, 17404, 970, 660, 1142, 278, 28548, 460, 2477, 6925, 442, 1843, 2628, 282, 28725, 304, 378, 349, 272, 1080, 13645, 302, 544, 660, 1142, 278, 300, 282, 25237, 28723, 415, 4372, 349, 325, 28741, 609, 415, 4372, 349, 325, 28741, 609], None]\n",
      "[[1, 1098, 29499, 11782, 1117, 1040, 23109, 5796, 1070, 7841, 29493, 21144, 1117, 1032, 6210, 1070, 29473, 29549, 10124, 29493, 1072, 11686, 1117, 1032, 7089, 2437, 1070, 8365, 8566, 1254, 1040, 11281, 2355, 29491, 781, 781, 1782, 2618, 3054, 1093, 10814, 1122, 10904, 22424, 29499, 16422, 1066, 1040, 23109, 5796, 1070, 1946, 7841, 29493, 25348, 1040, 7471, 1210, 14609, 1070, 1032, 3460, 10904, 1960, 1093, 29502, 1210, 29473, 29508, 1377, 781, 781, 29509, 8268, 1117, 1032, 2839, 1070, 29473, 29551, 10124, 29493, 2075, 1066, 4911, 1032, 3460, 4001, 1210, 1032, 3460, 22424, 29491, 1183, 2437, 1070, 1032, 2475, 29493, 4313, 29493, 1117, 8566, 1254, 1040, 11281, 2355, 1072, 1309, 11972, 10853, 1124, 1040, 14579, 1070, 1040, 6842, 29491, 1429, 1117, 1032, 7089, 2437, 1070, 8365, 1072, 1117, 2075, 1066, 4911, 1032, 2839, 1070, 5970, 1946, 5675, 29491, 781, 781, 1425, 14828, 29493, 10124, 1228, 2075, 1066, 4911, 4003, 10904, 3837, 29493, 8365, 1228, 2075, 1066, 4911, 6896, 1210, 4736, 1814, 29493, 1072, 3853, 1228, 2075, 1066, 4911, 5706, 1070, 5970, 1946, 5675, 29493, 1163, 1040, 2437, 1070, 1032, 2475, 2018, 8566, 1254, 1040, 11281, 2355, 29491], [1, 4003, 460, 272, 20343, 304, 1255, 262, 1308, 1444, 272, 3471, 28747, 13, 13, 8443, 28747, 330, 2286, 349, 272, 22341, 5028, 302, 7153, 1871, 28725, 9566, 10483, 390, 264, 28705, 28734, 442, 28705, 28740, 28723, 13, 13, 8150, 28747, 330, 7500, 349, 264, 2071, 302, 28705, 28783, 9356, 28723, 661, 349, 272, 4787, 5028, 302, 15921, 354, 6074, 4733, 304, 7073, 28725, 14030, 264, 2692, 3233, 302, 2245, 442, 264, 2692, 21656, 302, 264, 1474, 28723, 13, 13, 15170, 28747, 330, 1707, 349, 264, 6321, 1669, 302, 1178, 28725, 9566, 28705, 28750, 28725, 28705, 28781, 28725, 442, 28705, 28783, 7597, 28725, 7798, 486, 272, 10513, 1587, 28723, 661, 349, 272, 1080, 6471, 5028, 302, 1178, 369, 264, 6074, 28742, 28713, 20846, 541, 4269, 438, 624, 727, 28723, 415, 1669, 302, 264, 1707, 541, 11204, 10085, 356, 272, 13218, 13811, 302, 272, 6074, 28723, 13, 13, 5816, 994, 28725, 272, 4714, 4372, 349, 325, 28798, 1329, 11014, 349, 272, 1080, 24267, 1178, 5028, 28725, 20376, 349, 264, 2071, 302, 28705, 28783, 9356, 28725, 10918, 349, 15365, 3714, 272, 13218, 13811, 302, 272, 6074, 28723, 415, 4372, 325, 28798, 28731, 24329, 18791, 272, 3471, 304, 23089, 272, 3758, 1444, 706, 28725, 395, 2286, 1250, 272, 22341, 5028, 302, 7153, 1871, 28725, 20376, 264, 5442, 302, 28705, 28783, 9356, 28725, 304, 10918, 264, 6321, 1669, 302, 1178, 7798, 486, 272, 10513, 1587, 28723], None]\n",
      "[[1, 3937, 29510, 29481, 1841, 4475, 1254, 4475, 29491, 1584, 1715, 1066, 2068, 1040, 6732, 1070, 17716, 1137, 1228, 10612, 1122, 1475, 8628, 1960, 7285, 1589, 6897, 29491, 781, 781, 29509, 29515, 29473, 29549, 29479, 1416, 29473, 29518, 29477, 1072, 29473, 29551, 2278, 781, 29528, 29515, 29473, 29518, 29536, 1416, 29473, 29518, 29536, 1416, 1214, 1072, 29473, 29549, 25165, 781, 29511, 29515, 29473, 29550, 29484, 1416, 29473, 29538, 29478, 1072, 29473, 29508, 29550, 6133, 781, 29525, 29515, 29473, 29549, 29483, 29574, 29473, 29518, 29474, 1072, 29473, 29551, 29483, 29574, 29474, 781, 29517, 29515, 1036, 1416, 1036, 1416, 29473, 29518, 29475, 1072, 29473, 29518, 1071, 781, 29533, 29515, 1053, 29574, 29490, 29574, 29490, 29574, 29489, 1072, 29473, 29538, 4881, 781, 29545, 29515, 1055, 29574, 29494, 29574, 29538, 29485, 1072, 29473, 29518, 29494, 29574, 29473, 29538, 29485, 781, 29537, 29515, 1052, 1416, 5024, 1416, 5024, 1416, 1176, 1072, 29473, 29518, 29488, 29543, 29480, 781, 29505, 29515, 1073, 1416, 1058, 1416, 1058, 1072, 29473, 29518, 24942, 781, 29566, 29515, 29473, 29538, 29500, 29512, 29574, 29518, 29499, 1072, 29473, 29538, 29512, 29574, 29518, 781, 781, 12249, 1056, 2198, 6732, 29493, 1246, 1309, 1800, 1137, 29515, 781, 781, 29509, 29515, 10481, 1276, 4857, 2328, 9248, 1070, 1040, 9545, 1254, 1075, 29516, 29518, 19702, 1075, 1416, 1057, 1095, 29473, 29518, 2278, 29493, 1458, 1117, 1227, 10612, 1122, 1312, 3837, 1070, 1075, 1644, 29473, 29502, 29491, 781, 29528, 29515, 10481, 1276, 4857, 2328, 9248, 1070, 1040, 9545, 1254, 1229, 19702, 29473, 29518, 29536, 1416, 1214, 1095, 29473, 29549, 25165, 29493, 1458, 1117, 1227, 10612, 1122, 1312, 3837, 1070, 1229, 1644, 29473, 29502, 1072, 1214, 1644, 29473, 29502, 29491, 781, 29511, 29515, 10481, 1276, 4857, 2328, 9248, 1070, 1040, 9545, 1254, 1063, 29516, 29550, 19702, 1063, 1416, 1381, 1095, 29473, 29538, 6133, 29493, 1458, 1117, 1227, 10612, 1122, 1312, 3837, 1070, 1063, 1644, 29473, 29502, 1072, 1381, 1644, 29473, 29502, 29491, 781, 29525, 29515, 8597, 9248, 1070, 1040, 9545, 1274, 1040, 2116, 1989, 29493, 1347, 1358, 1228, 10612, 1122, 1312, 3837, 1070, 1049, 1644, 29473, 29502, 1072, 1085, 1644, 29473, 29502, 29491, 781, 29517, 29515, 10481, 1276, 4857, 2328, 9248, 1070, 1040, 9545, 1254, 1029, 19702, 1036, 1416, 29473, 29518, 29475, 1095, 29473, 29518, 1071, 29493, 1458, 1117, 1227, 10612, 1122, 1312, 3837, 1070, 1036, 1644, 29473, 29502, 1072, 1029, 1644, 29473, 29502, 29491, 781, 29533, 29515, 10481, 1276, 4857, 2328, 9248, 1070, 1040, 9545, 1254, 1053, 29516, 29538, 19702, 1053, 1416, 1087, 1095, 1053, 29489, 29493, 1458, 1117, 1227, 10612, 1122, 1312, 3837, 1070, 1053, 1644, 29473, 29502, 1072, 1087, 1644, 29473, 29502, 29491, 781, 29545, 29515, 10481, 1276, 4857, 2328, 9248, 1070, 1040, 9545, 1254, 1055, 29516, 29518, 19702, 1055, 1416, 29473, 29518, 29485, 1095, 1055, 29500, 29518, 29485, 1325, 1458, 1117, 1227, 10612, 1122, 1312, 3837, 1070, 1055, 1644, 29473, 29502, 1072, 1045, 1644, 29473, 29502, 29491, 781, 29537, 29515, 10481, 1276, 4857, 2328, 9248, 1070, 1040, 9545, 1254, 5024, 29516, 29518, 19702, 1052, 1416, 5024, 1416, 5024, 1416, 1176, 1095, 29473, 29518, 29488, 29543, 29480, 29493, 1458, 1117, 1227, 10612, 1122, 1312, 3837, 1070, 1052, 1644, 29473, 29502, 29493, 5024, 1644, 29473, 29502, 29493, 1072, 1176, 1644, 29473, 29502, 29491, 781, 29505, 29515, 10481, 1276, 4857, 2328, 9248, 1070, 1040, 9545, 1254, 1058, 29516, 29518, 19702, 1073, 1416, 29473, 29518, 29487, 1095, 29473, 29518, 24942, 29493, 1458, 1117, 1227, 10612, 1122, 1312, 3837, 1070, 1073, 1644, 29473, 29502, 1072, 1058, 1644, 29473, 29502, 29491, 781, 29566, 29515, 8597, 9248, 1070, 1040, 9545, 1274, 1040, 2116, 1989, 29493, 1347, 1358, 1228, 10612, 1122, 1312, 3837, 1070, 2086, 1644, 29473, 29502, 29491, 781, 781, 1782, 5140, 1117, 1093, 29525, 29499, 29473, 29549, 29483, 29574, 29473, 29518, 29474, 1072, 29473, 29551, 29483, 29574, 29474, 29491], [1, 3169, 28742, 28713, 1073, 3707, 486, 3707, 28723, 816, 927, 298, 1300, 264, 5964, 302, 16948, 369, 460, 9844, 354, 707, 1192, 302, 272, 8925, 6517, 821, 6129, 28723, 28705, 13, 13, 8055, 325, 28798, 28731, 349, 9844, 298, 28705, 28770, 28744, 648, 28705, 28784, 28725, 690, 349, 459, 9844, 298, 28705, 28770, 28744, 648, 28705, 28750, 354, 544, 3069, 302, 1318, 28723, 13, 13, 8055, 325, 28749, 28731, 349, 9844, 298, 28705, 28750, 28713, 648, 28705, 28750, 303, 28725, 690, 349, 459, 9844, 298, 28705, 28750, 303, 354, 544, 3069, 302, 268, 304, 261, 28723, 13, 13, 8055, 325, 28741, 28731, 349, 9844, 298, 28705, 28781, 1510, 648, 28705, 28750, 28709, 28725, 690, 349, 459, 9844, 298, 28705, 28783, 1510, 354, 544, 3069, 302, 307, 304, 289, 28723, 13, 13, 8055, 325, 28760, 28731, 349, 9844, 298, 28705, 28781, 24397, 648, 28705, 28750, 24397, 28725, 690, 349, 9844, 298, 28705, 28784, 24397, 354, 544, 3069, 302, 461, 304, 446, 28723, 13, 13, 8055, 325, 28743, 28731, 349, 9844, 298, 28705, 28740, 28782, 5365, 28725, 690, 349, 9844, 298, 28705, 28782, 28716, 648, 28705, 28782, 28710, 354, 544, 3069, 302, 295, 304, 613, 28723, 13, 13, 8055, 325, 28757, 28731, 349, 9844, 298, 28705, 28781, 450, 648, 28705, 28750, 450, 28725, 690, 349, 9844, 298, 28705, 28784, 450, 354, 544, 3069, 302, 281, 304, 317, 28723, 13, 13, 8055, 325, 28765, 28731, 349, 9844, 298, 28705, 28770, 28722, 28815, 28750, 648, 319, 28725, 690, 349, 459, 9844, 298, 28705, 28770, 4113, 354, 544, 3069, 302, 285, 304, 319, 28723, 13, 13, 8055, 325, 28777, 28731, 349, 9844, 298, 28705, 28750, 28726, 648, 28705, 28770, 12286, 28725, 690, 349, 459, 9844, 298, 28705, 28750, 28726, 648, 28705, 28770, 28717, 354, 544, 3069, 302, 287, 304, 277, 28723, 13, 13, 8055, 325, 28769, 28731, 349, 9844, 298, 28705, 28750, 28720, 28775, 28712, 648, 284, 28775, 28712, 28725, 690, 349, 9844, 298, 28705, 28770, 28720, 28775, 28712, 354, 544, 3069, 302, 284, 28725, 4256, 28725, 304, 408, 28723, 13, 13, 8055, 325, 28737, 28731, 349, 9844, 298, 28705, 28750, 24174, 648, 305, 28719, 28725, 690, 349, 9844, 298, 28705, 28770, 24174, 354, 544, 3069, 302, 305, 304, 290, 28723, 13, 13, 5816, 994, 28725, 272, 4372, 349, 325, 28760, 28731, 442, 325, 28743, 28731, 442, 325, 28737, 609, 816, 541, 4987, 325, 28743, 28731, 1096, 378, 349, 272, 9878, 374, 5782, 28723, 415, 4372, 349, 325, 28743, 609, 28705, 28740, 28782, 5365, 304, 28705, 28782, 28716, 648, 28705, 28782, 28710, 460, 9844, 354, 707, 1192, 302, 295, 304, 613, 6517, 821, 6129, 28723], None]\n",
      "[[1, 5345, 1040, 4736, 1814, 1197, 29483, 29498, 29478, 29493, 1381, 29514, 29508, 29493, 29518, 29493, 29538, 29493, 29549, 2545, 1228, 6705, 1245, 1197, 29508, 29493, 29518, 29493, 29538, 29493, 29549, 29493, 29550, 29493, 29552, 29493, 29555, 29493, 29551, 2545, 1072, 2198, 22424, 1309, 1115, 10100, 29493, 1504, 1228, 29473, 29551, 11243, 1122, 2198, 1070, 1040, 29473, 29549, 9929, 1065, 1040, 10238, 29491, 1183, 3870, 2242, 1070, 3340, 27118, 1117, 1197, 29551, 29583, 29549, 1095, 29473, 29551, 1182, 5361, 29473, 29551, 1182, 5361, 29473, 29551, 1182, 5361, 29473, 29551, 1095, 29473, 29549, 29502, 29542, 29552, 2483, 1183, 5140, 1117, 1093, 29545, 1377], [1, 4577, 429, 28715, 28730, 28740, 28725, 281, 28730, 28750, 28725, 281, 28730, 28770, 28725, 281, 28730, 28781, 28776, 460, 1430, 8729, 477, 28705, 28783, 1581, 3968, 1046, 325, 28740, 28725, 28705, 28750, 28725, 28705, 28770, 28725, 28705, 28781, 28725, 28705, 28782, 28725, 28705, 28784, 28725, 28705, 28787, 28725, 28705, 28783, 557, 456, 349, 264, 2308, 28733, 7845, 279, 1474, 2700, 395, 708, 21435, 685, 442, 5374, 6129, 274, 28723, 28705, 13, 13, 5816, 460, 28705, 28783, 10475, 354, 429, 28715, 28730, 28740, 1777, 304, 28705, 28787, 10475, 354, 429, 28715, 28730, 28750, 1777, 304, 28705, 28784, 10475, 354, 429, 28715, 28730, 28770, 1777, 304, 28705, 28782, 10475, 354, 429, 28715, 28730, 28781, 1715, 8469, 28725, 272, 3102, 1474, 302, 4344, 26350, 541, 347, 13507, 486, 17669, 4089, 1167, 10475, 2553, 28747, 13, 13, 28783, 1318, 28705, 28787, 1318, 28705, 28784, 1318, 28705, 28782, 28723, 13, 13, 1014, 4372, 349, 28705, 28740, 28784, 28783, 28734, 28723, 2993, 28725, 6547, 302, 272, 11194, 3857, 460, 28705, 28740, 28784, 28783, 28734, 28723, 1387, 3969, 298, 347, 396, 2118, 297, 272, 2700, 442, 272, 4372, 10475, 28723], None]\n",
      "[[1, 4440, 1040, 2639, 4625, 29493, 7446, 1822, 1488, 29486, 29510, 29481, 6266, 1066, 10992, 14450, 1171, 1032, 3735, 28074, 1070, 1040, 1699, 2730, 6994, 2212, 10942, 1072, 5845, 29491, 1183, 6266, 18707, 1066, 14159, 2603, 1040, 27067, 6860, 1070, 1699, 2730, 1124, 3698, 3296, 1072, 7475, 6958, 29491, 3298, 7446, 1822, 1488, 29486, 29510, 29481, 6266, 29493, 1040, 5177, 3826, 1631, 1227, 1806, 1475, 6632, 1147, 1732, 1362, 1066, 5845, 8985, 1040, 1699, 2730, 6994, 29491, 1183, 1699, 2730, 6994, 6085, 1122, 3624, 2035, 29493, 1072, 1146, 1171, 1227, 2764, 29473, 29508, 29542, 29502, 29551, 1137, 5845, 1171, 3126, 1066, 17551, 9511, 1040, 1699, 2730, 6994, 1065, 1312, 7475, 13318, 1265, 29491, 1183, 5177, 3826, 1631, 1227, 5059, 1032, 10675, 1747, 2929, 1210, 13381, 1148, 5845, 1122, 1040, 26315, 8102, 1254, 1040, 1699, 2730, 6994, 29493, 5446, 1631, 1358, 1045, 7265, 13734, 13312, 1066, 5845, 1210, 6638, 1546, 1032, 3984, 1070, 21997, 1769, 1488, 10838, 1163, 5845, 29491, 4791, 1504, 1171, 1032, 3735, 7659, 29501, 1178, 2730, 7017, 1065, 10942, 29493, 1146, 1631, 1227, 1972, 1065, 1040, 5177, 3826, 17971, 1040, 1699, 2730, 6994, 1065, 5845, 29491, 1183, 5482, 5140, 1117, 1093, 29517, 29499, 1098, 6821, 9511, 1070, 1040, 1699, 2730, 6994, 1065, 1312, 7475, 13318, 1265, 29493, 1330, 1146, 1631, 1227, 5572, 6115, 1792, 7446, 1822, 1488, 29486, 29510, 29481, 6266, 1066, 10992, 14450, 29491], [1, 415, 9562, 302, 6678, 1054, 720, 28718, 28742, 28713, 5498, 863, 459, 1204, 297, 707, 302, 272, 18014, 9206, 28723, 8162, 28725, 378, 18746, 298, 272, 5398, 302, 272, 4205, 451, 1857, 383, 3273, 325, 28740, 28783, 28770, 28774, 28733, 28740, 28783, 28781, 28750, 28731, 1444, 5077, 304, 10174, 28723, 415, 1496, 7054, 395, 272, 18525, 302, 272, 15424, 28724, 302, 418, 978, 288, 28725, 690, 277, 286, 286, 12966, 12544, 298, 272, 4409, 28725, 4923, 2856, 6707, 21148, 298, 4409, 6226, 28725, 304, 3030, 5077, 298, 2136, 264, 2475, 1176, 366, 28711, 472, 298, 10174, 28723, 415, 4372, 349, 459, 9206, 2747, 28723], None]\n",
      "[[1, 3937, 29510, 29481, 1841, 4475, 1254, 4475, 29491, 1086, 5460, 1369, 1053, 2217, 1228, 6131, 1163, 1164, 6015, 1065, 1161, 14916, 1252, 5489, 1128, 1096, 6925, 29493, 2080, 2094, 1836, 29481, 5460, 1369, 1053, 2217, 1274, 1032, 14982, 2798, 1124, 1161, 14916, 1252, 5489, 1128, 1096, 6925, 1072, 1761, 1787, 7959, 4657, 1474, 29491, 2066, 1220, 4902, 3263, 1092, 1369, 1053, 2217, 1163, 2094, 1836, 29481, 5460, 1369, 1053, 2217, 1791, 6934, 2504, 1066, 1032, 18657, 1065, 1161, 14916, 1252, 5489, 1128, 1096, 29493, 1227, 1164, 6015, 29491, 1186, 29501, 29538, 13139, 14484, 5460, 1369, 7138, 1652, 1951, 3066, 1274, 7659, 29501, 22023, 1082, 3844, 1463, 6860, 1072, 1309, 5684, 5010, 11912, 1081, 20495, 1254, 4657, 1056, 1235, 1094, 1114, 3510, 2694, 1072, 7959, 4657, 1056, 1161, 14916, 1252, 5489, 1128, 1096, 2080, 16619, 1150, 14916, 1252, 5489, 1128, 1096, 29491, 6272, 22310, 2896, 1205, 1059, 10519, 1396, 16950, 1035, 1072, 5868, 18688, 14078, 29516, 3174, 14078, 1117, 6131, 1163, 1032, 6632, 14156, 1065, 1161, 14916, 1252, 5489, 1128, 1096, 6925, 29491, 2066, 1220, 4902, 3263, 1092, 1369, 1053, 2217, 1163, 3243, 15606, 1070, 24935, 2139, 29492, 3690, 1148, 1117, 6131, 1163, 8251, 1235, 1094, 1114, 3510, 1315, 6925, 1072, 8251, 1161, 14916, 1252, 5489, 1128, 1096, 6925, 29491, 781, 781, 6584, 1762, 1040, 5482, 7019, 1117, 29515, 2066, 17908, 1070, 3263, 1092, 1369, 7138, 1652, 1951, 3066, 1163, 2094, 1836, 29481, 5460, 1369, 7138, 1652, 1951, 3066, 1117, 6131, 1163, 1032, 18657, 1065, 1161, 14916, 1252, 5489, 1128, 1096, 1093, 29525, 1117, 17158, 1377, 781, 781, 1782, 5140, 1117, 1093, 29528, 29499, 1117, 17158, 1864, 14673, 1070, 3263, 1092, 1369, 7138, 1652, 1951, 3066, 1163, 2094, 1836, 29481, 5460, 1369, 7138, 1652, 1951, 3066, 1117, 6131, 1163, 1032, 18657, 1065, 1161, 14916, 1252, 5489, 1128, 1096, 29493, 1227, 1164, 6015, 1065, 1150, 14916, 1252, 5489, 1128, 1096, 29491, 1183, 5482, 7019, 1450, 1115, 29515, 2066, 17908, 1070, 3263, 1092, 1369, 7138, 1652, 1951, 3066, 1163, 2094, 1836, 29481, 5460, 1369, 7138, 1652, 1951, 3066, 1117, 6131, 1163, 1032, 18657, 1065, 1161, 14916, 1252, 5489, 1128, 1096, 1072, 1032, 6311, 6015, 1065, 1150, 14916, 1252, 5489, 1128, 1096, 29491, 781, 781, 1782, 5140, 1117, 1093, 29511, 29499, 1117, 17158, 1864, 21081, 3263, 1092, 1369, 1053, 2217, 1163, 3243, 15606, 1070, 24935, 2139, 29492, 3690, 1148, 1117, 6131, 1163, 8251, 1235, 1094, 1114, 3510, 1315, 6925, 1072, 8251, 1161, 14916, 1252, 5489, 1128, 1096, 6925, 29493, 1227, 9280, 2061, 1161, 14916, 1072, 8251, 28909, 1235, 1094, 1114, 3510, 1315, 9670, 1465, 29491, 781, 781, 1782, 5140, 1117, 1093, 29517, 29499, 1117, 17158, 1864, 17066, 1070, 2896, 1205, 1059, 10519, 1396, 16950, 1035, 1072, 5868, 18688, 14078, 29516, 3174, 14078, 1117, 6131, 1163, 1032, 6632, 14156, 1065, 1161, 14916, 1252, 5489, 1128, 1096, 6925, 29493, 1227, 1164, 6015, 29491, 781, 781, 1782, 5482, 5140, 1117, 1093, 29509, 29499, 1117, 20734, 17158, 1864, 14673, 1070, 3263, 1092, 1369, 7138, 1652, 1951, 3066, 1163, 1075, 29501, 29538, 13139, 14484, 5460, 1369, 7138, 1652, 1951, 3066, 1117, 6131, 1163, 1032, 18657, 1065, 1235, 1094, 1114, 3510, 2694, 29493, 1227, 1164, 6015, 29491, 1183, 5482, 7019, 1450, 1115, 29515, 2066, 17908, 1070, 3263, 1092, 1369, 7138, 1652, 1951, 3066, 1163, 1075, 29501, 29538, 13139, 14484, 5460, 1369, 7138, 1652, 1951, 3066, 1117, 6131, 1163, 1032, 18657, 1065, 1235, 1094, 1114, 3510, 2694, 1072, 1032, 6311, 6015, 1065, 1150, 14916, 1252, 5489, 1128, 1096, 29491], [1, 3169, 28742, 28713, 1073, 3707, 486, 3707, 28723, 661, 349, 6741, 4525, 7783, 298, 9013, 2495, 324, 601, 6370, 297, 272, 9751, 395, 10214, 4692, 601, 285, 1449, 28723, 418, 28733, 28770, 12371, 13716, 4692, 601, 6370, 884, 1183, 2298, 28725, 690, 460, 1419, 297, 14082, 737, 6370, 884, 8006, 28725, 460, 2651, 298, 3889, 467, 326, 346, 2742, 1926, 325, 4694, 330, 349, 16390, 609, 3217, 1068, 28713, 4692, 601, 6370, 884, 1183, 2298, 28725, 690, 460, 1419, 297, 14082, 737, 24403, 5503, 28725, 389, 8025, 28713, 28725, 304, 1182, 402, 3482, 28725, 541, 3889, 393, 14148, 325, 11436, 28731, 484, 4721, 360, 328, 304, 5247, 382, 14148, 325, 12684, 28731, 484, 4721, 360, 328, 325, 4694, 365, 349, 16390, 609, 5504, 21542, 2475, 14838, 302, 24167, 1371, 28724, 2922, 1002, 297, 1633, 302, 2495, 324, 601, 6370, 541, 3889, 393, 14148, 28725, 562, 541, 835, 7234, 467, 326, 346, 2742, 1926, 325, 4694, 334, 349, 7444, 4714, 28725, 3741, 369, 467, 326, 346, 2742, 1926, 949, 28742, 28707, 17889, 609, 5504, 21542, 1326, 1068, 28713, 4692, 601, 6370, 884, 1183, 2298, 349, 459, 5363, 395, 396, 5247, 297, 393, 14148, 484, 4721, 360, 328, 325, 4694, 384, 349, 16390, 609, 5504, 21542, 2128, 437, 291, 9751, 628, 18867, 304, 5100, 17920, 13310, 442, 17049, 13310, 28725, 690, 460, 2608, 1419, 297, 18867, 28733, 6408, 14082, 304, 14573, 14082, 737, 481, 1491, 887, 15003, 283, 1303, 28725, 349, 5363, 395, 264, 17889, 297, 393, 14148, 484, 4721, 360, 328, 325, 4694, 413, 349, 16390, 609, 8469, 28725, 272, 4714, 4372, 349, 325, 28743, 1329, 13905, 302, 2495, 324, 601, 6370, 884, 1183, 2298, 395, 2475, 14838, 302, 24167, 1371, 28724, 2922, 380, 349, 5363, 395, 8512, 1293, 393, 14148, 304, 7483, 28141, 467, 326, 346, 2742, 547, 8902, 697, 28723, 415, 4372, 349, 325, 28743, 609], None]\n",
      "[[1, 1328, 1032, 8564, 29501, 2687, 2203, 20473, 29493, 1040, 26825, 29493, 1210, 2282, 4013, 29493, 10334, 2003, 1227, 1274, 1040, 11055, 1871, 1066, 1806, 3782, 4089, 27238, 2439, 1040, 3301, 22880, 29510, 29481, 29493, 1210, 3399, 1039, 29510, 29481, 29493, 15902, 29491, 1183, 3399, 1039, 1117, 1040, 6416, 7930, 1070, 1040, 4089, 1072, 1427, 1040, 1871, 1066, 3370, 1639, 1706, 1072, 1475, 3782, 14264, 1465, 29491, 1183, 2282, 4013, 29510, 29481, 15658, 15691, 1072, 27173, 8985, 18645, 1040, 4089, 1279, 1227, 10994, 13922, 1474, 1040, 1871, 1066, 1806, 5203, 29493, 4780, 1507, 2163, 5203, 1597, 14725, 1108, 2199, 1040, 4089, 29491, 1183, 5140, 1117, 1093, 29537, 29499, 1113, 3269, 29493, 1040, 3399, 1039, 1427, 1040, 2248, 2083, 1065, 1475, 5203, 1066, 1040, 4089, 2622, 1358, 1228, 1040, 6416, 7930, 1379], [1, 415, 4372, 298, 456, 2996, 9618, 356, 272, 2948, 3471, 302, 272, 7796, 28733, 1919, 1435, 8704, 304, 272, 8807, 1665, 8427, 28723, 2993, 28725, 6741, 8711, 28725, 272, 5484, 349, 15764, 298, 1745, 272, 2631, 271, 298, 27439, 395, 272, 1514, 3245, 28742, 28713, 15047, 354, 19664, 369, 682, 2699, 272, 2631, 271, 28742, 28713, 15134, 28723, 415, 4372, 349, 3917, 325, 28737, 28731, 345, 2501, 28725, 378, 622, 710, 12856, 272, 1514, 3245, 477, 2492, 1259, 1605, 3953, 4435, 1671, 272, 2631, 271, 28742, 28713, 15134, 611, 13, 13, 657, 264, 7796, 28733, 1919, 1435, 19705, 28725, 272, 11603, 263, 28733, 867, 3245, 9566, 1699, 1606, 18149, 304, 2602, 754, 272, 3321, 28725, 562, 272, 2631, 271, 28733, 1503, 271, 1699, 1606, 5648, 13965, 304, 659, 272, 1103, 298, 2602, 2552, 10936, 302, 272, 3321, 28725, 1259, 390, 272, 1103, 298, 15134, 298, 19664, 28723, 415, 2948, 4495, 304, 26405, 302, 272, 8209, 460, 4312, 28637, 297, 272, 7796, 28733, 1919, 1435, 8704, 28723, 13, 13, 3381, 272, 8704, 6948, 272, 2631, 271, 28742, 28713, 15134, 354, 19664, 28725, 272, 5484, 349, 15764, 298, 8013, 369, 18381, 1671, 264, 26295, 2611, 28723, 560, 456, 13406, 28725, 272, 5484, 349, 15764, 298, 1300, 369, 272, 11603, 263, 28742, 28713, 8646, 298, 6710, 272, 4143, 349, 264, 26295, 2611, 298, 8013, 272, 2631, 271, 28742, 28713, 5001, 840, 1103, 298, 15134, 298, 19664, 28723, 13, 13, 5816, 994, 28725, 272, 5484, 349, 680, 3917, 298, 5918, 297, 4268, 302, 272, 2631, 271, 28725, 390, 325, 28737, 28731, 12308, 28725, 304, 19685, 272, 11603, 263, 28742, 28713, 2159, 298, 1038, 19664, 1671, 272, 2631, 271, 28742, 28713, 15134, 28723], None]\n",
      "[[1, 1086, 4572, 1770, 8529, 1137, 1164, 2987, 29512, 1082, 2079, 2179, 1117, 1032, 26234, 1864, 1146, 3671, 1065, 1087, 10980, 1375, 7009, 1066, 1040, 8005, 29491, 1183, 5140, 1117, 1093, 29509, 1377], [1, 415, 14804, 345, 276, 2219, 28744, 314, 1311, 1411, 349, 459, 4407, 3687, 28739, 349, 26133, 298, 318, 3804, 1002, 28723, 415, 3028, 349, 369, 3687, 1671, 4174, 4038, 624, 28742, 28713, 16415, 28725, 3069, 28725, 304, 6768, 8681, 298, 264, 5746, 1503, 9025, 28723, 851, 20976, 349, 11640, 5202, 298, 272, 24809, 302, 16679, 304, 24885, 28725, 304, 26902, 288, 456, 24809, 2903, 297, 11054, 442, 10986, 6241, 28723, 8469, 28725, 272, 4372, 349, 325, 28741, 1329, 272, 7237, 28723, 415, 4372, 349, 325, 28741, 609], None]\n",
      "[[1, 1292, 7229, 10046, 1137, 8280, 1069, 29510, 29481, 11754, 21445, 2212, 6595, 1072, 28532, 28228, 1137, 1504, 1117, 1476, 11754, 5901, 2212, 6595, 1072, 28532, 29491, 1183, 5140, 1117, 1093, 29517, 1377], [1, 524, 6461, 28742, 28713, 3452, 349, 369, 7512, 301, 28742, 28713, 10986, 20677, 1444, 5827, 304, 27764, 27460, 369, 5714, 5827, 349, 1743, 680, 2544, 578, 18636, 821, 27764, 28723, 415, 4372, 349, 325, 28757, 609, 415, 4372, 349, 325, 28757, 609], None]\n",
      "[[1, 1183, 8536, 1070, 3056, 1064, 6142, 1066, 1032, 7191, 1665, 4386, 1245, 1032, 13802, 5231, 6207, 11426, 1163, 7356, 8301, 29493, 1636, 1058, 2926, 1042, 29493, 5729, 1254, 1053, 1941, 29481, 1210, 18312, 1070, 10877, 1042, 1072, 10326, 1327, 2584, 29493, 1636, 1428, 29107, 1327, 2584, 29493, 1636, 13017, 1205, 29481, 29493, 1072, 5019, 7867, 29491, 1619, 2527, 1117, 3419, 1158, 7026, 3056, 1064, 29491, 1183, 5140, 1117, 1093, 29511, 1377], [1, 415, 7768, 302, 2288, 296, 5374, 298, 264, 6423, 897, 3618, 477, 264, 13034, 4463, 5439, 349, 2651, 390, 6258, 2288, 296, 28723, 661, 10658, 395, 6588, 7533, 28725, 690, 427, 7916, 1183, 2298, 369, 1721, 1060, 272, 4463, 304, 2231, 264, 9026, 7487, 302, 14315, 28723, 5235, 727, 28725, 290, 2158, 274, 304, 868, 1741, 9923, 737, 285, 1173, 28713, 442, 17544, 302, 10109, 274, 304, 9558, 559, 1816, 1149, 298, 2333, 297, 456, 9026, 7487, 302, 14315, 28723, 1136, 1167, 9923, 1202, 304, 340, 3086, 645, 28725, 590, 967, 15897, 3388, 298, 272, 14315, 28725, 2492, 378, 6708, 263, 304, 680, 11633, 354, 272, 6057, 302, 660, 28339, 559, 1816, 28723, 5235, 727, 28725, 12249, 437, 28713, 304, 7099, 2839, 298, 2333, 28725, 6959, 20345, 264, 6423, 897, 3618, 28723, 415, 4372, 349, 325, 28743, 609, 415, 4372, 349, 325, 28743, 609], None]\n",
      "[[1, 2559, 7371, 8409, 1245, 1102, 1958, 3938, 1066, 22332, 9598, 29493, 1246, 1735, 29473, 29518, 29555, 29538, 29491, 29508, 29550, 1066, 1040, 8409, 1065, 11950, 1102, 1958, 3938, 29491, 781, 781, 3333, 29473, 29518, 29502, 29670, 29511, 29493, 1246, 1274, 29473, 29518, 29502, 1416, 29473, 29518, 29555, 29538, 29491, 29508, 29550, 1095, 29473, 29518, 29542, 29538, 29491, 29508, 29550, 1292, 781, 781, 3333, 1155, 29550, 29670, 29511, 29493, 1246, 1274, 1155, 29550, 1416, 29473, 29518, 29555, 29538, 29491, 29508, 29550, 1095, 29473, 29518, 29552, 29551, 29491, 29508, 29550, 1292, 781, 781, 1782, 5482, 11962, 1228, 1093, 29511, 29499, 29473, 29518, 29555, 29538, 29564, 1072, 29473, 29518, 29552, 29551, 29564, 29491], [1, 1791, 6603, 17991, 2078, 297, 334, 1190, 3170, 298, 21564, 8830, 478, 927, 298, 967, 28705, 28750, 28787, 28770, 28723, 28740, 28782, 298, 272, 334, 1190, 3170, 7641, 28723, 1537, 272, 21564, 8830, 9844, 302, 28705, 28750, 28734, 28902, 28743, 349, 28705, 28750, 28734, 648, 28705, 28750, 28787, 28770, 28723, 28740, 28782, 327, 28705, 28750, 28774, 28770, 524, 28725, 304, 272, 21564, 8830, 9844, 302, 387, 28782, 28902, 28743, 349, 387, 28782, 648, 28705, 28750, 28787, 28770, 28723, 28740, 28782, 327, 28705, 28750, 28784, 28783, 524, 28723, 8469, 272, 4714, 4372, 349, 325, 28765, 28731, 28705, 28750, 28774, 28770, 28796, 304, 28705, 28750, 28784, 28783, 28796, 28723, 13, 13, 1014, 4372, 349, 325, 28765, 609], None]\n",
      "[[1, 1183, 3949, 1070, 2829, 1848, 15141, 1065, 1040, 13792, 20076, 12671, 1117, 3843, 2829, 29491, 28433, 20076, 6300, 1312, 10072, 1070, 1040, 9909, 2829, 12834, 29493, 1330, 1146, 1117, 1848, 15141, 1065, 1040, 5813, 29501, 14002, 5192, 29491, 2452, 1312, 1935, 10072, 1228, 10605, 29493, 1358, 7840, 3843, 2829, 29491, 9237, 29493, 1040, 5140, 1117, 1093, 29509, 1377, 1183, 3949, 1070, 2829, 1848, 15141, 1065, 1040, 13792, 20076, 12671, 1117, 3843, 29491], [1, 415, 3181, 302, 2061, 1080, 14373, 297, 272, 13024, 19308, 11903, 349, 9684, 28733, 13234, 28723, 851, 16535, 298, 272, 7228, 297, 272, 11903, 28725, 690, 14179, 297, 272, 9141, 2061, 2819, 28725, 562, 459, 4668, 297, 272, 4986, 28725, 12211, 378, 349, 264, 9684, 28733, 13234, 275, 26795, 302, 2061, 28723, 415, 4372, 349, 325, 28798, 1329, 9684, 28733, 13234, 28723], None]\n",
      "[[1, 1183, 1757, 23109, 29473, 29538, 29501, 8613, 1047, 8907, 6319, 1228, 29473, 29508, 29502, 29508, 1072, 29473, 29508, 29502, 29538, 29491, 7491, 2861, 1117, 1197, 29479, 1095, 29473, 29508, 29502, 29508, 1182, 5361, 29473, 29508, 29502, 29538, 1095, 29473, 29508, 29502, 29549, 29502, 29538, 2483, 1183, 4736, 1814, 1070, 1197, 29479, 29544, 1228, 29473, 29508, 29493, 29473, 29502, 29493, 29473, 29549, 29493, 29473, 29502, 29493, 29473, 29538, 29491, 7491, 3416, 1117, 29473, 29551, 1416, 29473, 29502, 1416, 29473, 29549, 1416, 29473, 29502, 1416, 29473, 29538, 1095, 29473, 29508, 29550, 29491, 3761, 29493, 2622, 1040, 3764, 13141, 1122, 1040, 3416, 1070, 1040, 4736, 1814, 29493, 1227, 1040, 4003, 4736, 1814, 29493, 1246, 2156, 1040, 3416, 1070, 1040, 4003, 4736, 1814, 1066, 1393, 29473, 29508, 1416, 29473, 29550, 1095, 29473, 29552, 29491, 1183, 5140, 1117, 1093, 29505, 1377], [1, 415, 989, 22341, 28705, 28770, 28733, 7845, 279, 8139, 5551, 460, 28705, 28740, 28734, 28740, 304, 28705, 28740, 28734, 28770, 28723, 6723, 2093, 349, 429, 28711, 28746, 28740, 28734, 28740, 28736, 28740, 28734, 28770, 28746, 28740, 28734, 28781, 28734, 28770, 1715, 415, 2648, 302, 272, 3968, 1046, 302, 429, 28711, 28776, 349, 429, 28740, 28806, 28734, 28806, 28781, 28806, 28734, 28806, 28770, 28746, 28783, 1715, 415, 4372, 349, 325, 28741, 609], None]\n",
      "[[1, 1183, 2560, 2604, 1056, 2750, 1093, 29521, 29499, 1070, 1032, 24590, 1513, 2560, 2604, 1056, 6207, 1117, 2846, 1254, 1040, 12071, 1135, 1095, 1093, 29479, 29518, 1155, 1075, 29508, 29499, 1500, 1167, 29493, 1738, 1075, 29518, 1117, 1040, 3759, 1070, 2560, 19064, 1070, 1040, 2444, 11080, 1093, 24614, 1325, 1075, 29508, 1117, 1040, 3759, 1070, 2560, 19064, 1070, 1040, 1675, 11080, 1093, 1760, 1325, 1072, 1167, 1117, 1040, 14398, 1070, 1040, 24590, 1513, 6207, 29491, 781, 781, 3017, 1554, 3848, 1065, 1040, 3837, 2846, 29515, 1135, 1095, 1093, 29508, 29491, 29550, 1155, 29473, 29508, 29499, 1500, 29473, 29518, 29502, 1095, 29473, 29502, 29491, 29502, 29555, 29550, 1658, 1178, 2300, 29491, 3761, 29493, 2622, 1040, 3764, 13141, 1122, 1040, 5140, 1065, 3662, 6319, 29493, 1246, 4481, 1146, 1066, 1040, 18171, 3662, 2242, 29493, 1458, 1117, 29473, 29502, 29491, 29508, 1658, 1178, 2300, 29491, 1183, 5140, 1117, 1093, 29566, 29499, 29473, 29502, 29491, 29550, 1658, 15904, 29493, 1330, 2622, 1040, 5463, 1960, 1117, 29473, 29502, 29491, 29508, 29493, 1224, 1117, 1164, 2886, 1065, 1040, 3764, 29491, 1183, 5482, 5140, 1791, 1115, 1093, 29566, 29499, 29473, 29502, 29491, 29508, 1658, 1178, 2300, 29491], [1, 415, 1792, 1836, 288, 1982, 325, 28757, 28731, 302, 264, 23822, 745, 1792, 1836, 288, 5439, 349, 2078, 486, 272, 11303, 28747, 13, 13, 28757, 327, 325, 28711, 28750, 387, 307, 28740, 28731, 732, 408, 13, 13, 2956, 307, 28740, 304, 307, 28750, 460, 272, 17853, 302, 1792, 18296, 302, 272, 989, 4077, 14700, 486, 272, 5439, 28725, 304, 408, 349, 272, 13630, 302, 26482, 1373, 302, 272, 5439, 297, 18776, 28723, 13, 13, 15423, 307, 28740, 327, 28705, 28740, 28725, 307, 28750, 327, 28705, 28740, 28723, 28782, 28725, 304, 408, 327, 28705, 28750, 28734, 8372, 327, 28705, 28734, 28723, 28750, 290, 28723, 28705, 13, 13, 5142, 28725, 384, 327, 325, 28740, 28723, 28782, 387, 28705, 28740, 28731, 732, 28705, 28734, 28723, 28750, 327, 28705, 28734, 28723, 28782, 732, 28705, 28734, 28723, 28750, 327, 28705, 28750, 28723, 28782, 890, 410, 1532, 28723, 13, 13, 1014, 4372, 349, 325, 28769, 28731, 28705, 28750, 28723, 28782, 890, 410, 1532, 28723], None]\n",
      "[[1, 22882, 8263, 1117, 1032, 2527, 1137, 8031, 1065, 26273, 1040, 1848, 9366, 4958, 1093, 24995, 29499, 1122, 1032, 6367, 5936, 2997, 1066, 5684, 1639, 5165, 29491, 14695, 1040, 3645, 4625, 29493, 7852, 1263, 7412, 1042, 29493, 26208, 29493, 1161, 24373, 29493, 11499, 12418, 17058, 2071, 1093, 29503, 9340, 1325, 3915, 2658, 10256, 29481, 29493, 1072, 1214, 29501, 7715, 12481, 3915, 1724, 29494, 1502, 1093, 29497, 12116, 29499, 1228, 1312, 6367, 5936, 19307, 2075, 1122, 17544, 1210, 1751, 9970, 29491, 3761, 29493, 7315, 1070, 1935, 19307, 2993, 5248, 8263, 1254, 3137, 29491, 8930, 29493, 1358, 1309, 1115, 2075, 1065, 10238, 1163, 5248, 8263, 6330, 2027, 1158, 4291, 2494, 1263, 22882, 2512, 1089, 3003, 1093, 29522, 6558, 1325, 22942, 29510, 29481, 10038, 15024, 1030, 1208, 6411, 1093, 4769, 6337, 1325, 1210, 17737, 1608, 9916, 1093, 6645, 29499, 1066, 6107, 1040, 1848, 9366, 4958, 1122, 1040, 2997, 29491, 9237, 29493, 1040, 5140, 1117, 1093, 29511, 29499, 9927, 1093, 29476, 29499, 5446, 1093, 29494, 1377, 1183, 3645, 1093, 29525, 29499, 1161, 24373, 1072, 1093, 29545, 29499, 2328, 1093, 29476, 29499, 1072, 1093, 29494, 29499, 1228, 17158, 2622, 1161, 24373, 1117, 1032, 5248, 8263, 2806, 1072, 7852, 1263, 7412, 1042, 1117, 1227, 1032, 12401, 2806, 1122, 5248, 8263, 29491, 20409, 1093, 29517, 29499, 1086, 9340, 29493, 1093, 29533, 29499, 3915, 2658, 10256, 29481, 29493, 1072, 1093, 29537, 29499, 1214, 12116, 1228, 1227, 12401, 1122, 5248, 8263, 1158, 1930, 29491], [1, 22114, 7495, 5562, 6503, 298, 9051, 304, 5339, 264, 19804, 302, 272, 1080, 8598, 4190, 354, 27472, 28723, 2909, 5599, 5168, 18539, 1259, 390, 393, 23605, 325, 28758, 28740, 4392, 1837, 28731, 304, 25440, 325, 28758, 28750, 4392, 1837, 28731, 26505, 4480, 7495, 390, 744, 302, 652, 5168, 1759, 28723, 2957, 5562, 771, 486, 15572, 3864, 19955, 369, 10384, 298, 2108, 2278, 4190, 28725, 11466, 8663, 11251, 706, 477, 272, 2229, 28723, 13, 13, 2486, 272, 799, 1021, 28725, 7084, 495, 6644, 274, 28725, 10731, 11650, 16290, 1303, 28725, 3147, 1890, 9488, 28713, 28725, 304, 446, 28733, 6947, 11713, 3147, 956, 28726, 734, 460, 459, 9566, 1307, 354, 4480, 7495, 28723, 2957, 5562, 460, 5682, 298, 771, 395, 272, 2078, 808, 302, 4190, 28723, 13, 13, 5816, 994, 28725, 272, 1080, 7658, 11194, 460, 325, 28743, 28731, 9159, 325, 28708, 28731, 4678, 325, 28726, 557, 304, 325, 28757, 28731, 393, 23605, 28723, 415, 4372, 349, 325, 28757, 557, 442, 325, 28743, 28731, 513, 368, 5273, 298, 4987, 865, 624, 4372, 28723], None]\n",
      "[[1, 2559, 8423, 1040, 1058, 9098, 3810, 1070, 1040, 15079, 29493, 1246, 1675, 1695, 1066, 14679, 1040, 1058, 5489, 1070, 1040, 15079, 29491, 1584, 1309, 1706, 1040, 8952, 5903, 9545, 1066, 14679, 1040, 1058, 5489, 1070, 1036, 14471, 1093, 9484, 1030, 29499, 1245, 1040, 1057, 3530, 8607, 7171, 29491, 781, 781, 8257, 29493, 2114, 29510, 29481, 7371, 1040, 8299, 1070, 1040, 5933, 1245, 9492, 1172, 1066, 14331, 1062, 2363, 1089, 3380, 1093, 4968, 29971, 1377, 781, 781, 29518, 29550, 29502, 16888, 1095, 29473, 29518, 29550, 29502, 9140, 29971, 781, 781, 7461, 29493, 1246, 29510, 1352, 1706, 1040, 2465, 29510, 29475, 26939, 9545, 1122, 1057, 3530, 8607, 7171, 29515, 781, 781, 29798, 1095, 29473, 29502, 29491, 29502, 29551, 29518, 29508, 1161, 29214, 21742, 29487, 1096, 1292, 29499, 16538, 1167, 1088, 16538, 1119, 16538, 1045, 781, 781, 3724, 29473, 29798, 1117, 1057, 3530, 8607, 7171, 29493, 1167, 1117, 1040, 5903, 6725, 1093, 29551, 29491, 29538, 29508, 29549, 1243, 21742, 29487, 1096, 1292, 7986, 1088, 1117, 8409, 1065, 22332, 9598, 1093, 29538, 29502, 29574, 29518, 29555, 29538, 29491, 29508, 29550, 1095, 29473, 29538, 29502, 29538, 29491, 29508, 29550, 1292, 1325, 1119, 1117, 1040, 1058, 9098, 3810, 1070, 1040, 1036, 14471, 29493, 1072, 1045, 1117, 1040, 1058, 9098, 16755, 1070, 1040, 1036, 14471, 29491, 781, 781, 3092, 1641, 1040, 1057, 3530, 8607, 7171, 1093, 29798, 1095, 29473, 29508, 29502, 29491, 29549, 6788, 1150, 29489, 29499, 1072, 1040, 8299, 1070, 1040, 5933, 1093, 29558, 1095, 29473, 29518, 29550, 29502, 9140, 29971, 1377, 3937, 29510, 29481, 7914, 1040, 9121, 1070, 1040, 2896, 1839, 1117, 29473, 29508, 1087, 29516, 4968, 29971, 1093, 2160, 2898, 1206, 29473, 29538, 29502, 29670, 29511, 1325, 1347, 1040, 3810, 1070, 1040, 2896, 1839, 1117, 29473, 29518, 29550, 29502, 1087, 29491, 1183, 3810, 1070, 1040, 15079, 1117, 29473, 29538, 29491, 29551, 29550, 1087, 29491, 781, 781, 1782, 1058, 9098, 16755, 1093, 29485, 29499, 1117, 2846, 1254, 29515, 781, 781, 29485, 1095, 1093, 19248, 1070, 15079, 10978, 29500, 19248, 1070, 2896, 1839, 1416, 3810, 1070, 15079, 29499, 781, 29514, 29473, 29538, 29491, 29551, 29550, 1087, 1500, 1093, 29518, 29550, 29502, 1087, 1416, 29473, 29538, 29491, 29551, 29550, 1087, 29499, 781, 29514, 29473, 29538, 29491, 29551, 29550, 1087, 1500, 29473, 29518, 29550, 29538, 29491, 29551, 29550, 1087, 781, 29514, 29473, 29502, 29491, 29502, 29508, 29550, 29518, 11018, 29516, 29526, 781, 781, 9247, 1246, 1309, 12817, 1122, 1040, 1058, 9098, 3810, 1093, 29523, 29499, 2181, 1040, 2465, 29510, 29475, 26939, 9545, 29515, 781, 781, 29508, 29502, 29491, 29549, 6788, 1150, 29489, 1095, 29473, 29502, 29491, 29502, 29551, 29518, 29508, 1161, 29214, 21742, 29487, 1096, 1292, 29499, 16538, 1167, 16538, 1088, 16538, 1119, 16538, 29473, 29502, 29491, 29502, 29508, 29550, 29518, 11018, 29516, 29526, 781, 781, 29503, 19158, 1122, 1119, 5980, 1360, 1040, 1058, 9098, 3810, 1070, 1040, 15079, 29515, 781, 781, 29523, 1095, 1093, 29508, 29502, 29491, 29549, 6788, 1150, 29489, 16538, 29473, 29508, 29502, 29502, 29502, 6788, 1150, 29489, 29516, 1038, 29487, 16538, 1093, 29508, 11018, 1161, 10978, 29500, 29502, 29491, 29502, 29551, 29518, 29508, 1161, 29214, 21742, 29487, 1096, 1292, 29499, 16538, 1167, 16538, 1088, 1511, 1500, 1093, 29502, 29491, 29502, 29508, 29550, 29518, 11018, 29499, 781, 781, 29523, 1095, 29473, 29518, 29555, 29542, 29502, 29502, 1087, 29516, 29487, 1096, 781, 781, 1782, 5140, 1117, 1093, 29509, 29499, 29473, 29518, 29555, 29542, 29502, 29502, 1087, 29516, 29487, 1096, 29491], [1, 1791, 1300, 272, 290, 8330, 4336, 302, 264, 14311, 477, 871, 289, 2762, 7839, 6403, 28725, 478, 541, 938, 272, 11303, 28747, 13, 13, 29030, 327, 307, 7042, 28748, 28790, 13, 13, 2956, 28705, 29030, 349, 272, 289, 2762, 7839, 6403, 28725, 307, 349, 272, 1474, 302, 290, 4721, 302, 272, 268, 13703, 325, 1237, 14311, 557, 399, 349, 272, 5135, 5957, 28725, 320, 349, 272, 7641, 297, 21564, 8830, 28725, 304, 550, 349, 272, 7531, 302, 272, 5165, 297, 8724, 404, 28723, 13, 13, 2324, 927, 298, 6603, 28705, 28770, 28723, 28783, 28782, 847, 5322, 302, 14311, 298, 290, 4721, 28723, 1791, 511, 456, 28725, 478, 21556, 272, 3042, 302, 272, 14311, 486, 871, 290, 8330, 4336, 28723, 2993, 28725, 478, 949, 28742, 28707, 873, 272, 290, 8330, 4336, 28725, 690, 349, 767, 478, 460, 2942, 298, 1300, 28723, 8469, 28725, 478, 622, 938, 396, 6854, 1197, 4431, 28725, 970, 478, 7146, 264, 290, 8330, 4336, 28725, 13911, 272, 1474, 302, 290, 4721, 28725, 304, 868, 938, 369, 1192, 298, 7655, 513, 378, 2903, 297, 272, 2078, 289, 2762, 7839, 6403, 28723, 13, 13, 2324, 460, 2078, 369, 272, 289, 2762, 7839, 6403, 349, 28705, 28740, 28734, 28723, 28781, 6020, 382, 28721, 438, 28705, 28770, 28734, 28902, 28743, 28723, 13, 13, 8779, 28742, 28713, 7146, 272, 290, 8330, 4336, 349, 28705, 28750, 28734, 28734, 28734, 28734, 319, 28748, 28719, 328, 325, 769, 541, 4987, 707, 1192, 28725, 456, 349, 776, 396, 2757, 609, 13, 13, 11341, 28725, 272, 1474, 302, 290, 4721, 302, 14311, 349, 28747, 13, 13, 28711, 327, 325, 29030, 414, 28736, 550, 28731, 732, 325, 28754, 414, 28736, 320, 28731, 327, 325, 28734, 28723, 28734, 28740, 28734, 28781, 414, 28736, 28705, 28734, 28723, 28750, 28782, 28734, 10210, 28732, 28734, 28723, 28734, 28783, 28750, 28740, 414, 28736, 325, 28750, 28787, 28770, 28723, 28740, 28782, 28806, 28770, 28734, 743, 28705, 29988, 28705, 28740, 28723, 28740, 28740, 1318, 28705, 28740, 28734, 18092, 28781, 290, 4721, 13, 13, 1014, 290, 8330, 472, 302, 272, 14311, 5165, 349, 28747, 13, 13, 28755, 8330, 472, 327, 1474, 302, 290, 4721, 732, 7531, 327, 28705, 28740, 28723, 28740, 28740, 1318, 28705, 28740, 28734, 18092, 28781, 290, 4721, 732, 28705, 28734, 28723, 28750, 28782, 28734, 393, 28705, 29988, 28705, 28734, 28723, 28734, 28734, 28734, 28781, 28781, 28781, 10250, 28748, 28758, 13, 13, 1014, 290, 8330, 4336, 349, 28747, 13, 13, 28719, 8330, 4336, 327, 3042, 732, 290, 8330, 472, 327, 28705, 28770, 28723, 28783, 28782, 319, 732, 28705, 28734, 28723, 28734, 28734, 28734, 28781, 28781, 28781, 10250, 28748, 28758, 28705, 29988, 28705, 28783, 28784, 28787, 28770, 319, 28748, 28719, 328, 13, 13, 3260, 1192, 349, 459, 297, 272, 1274, 302, 4372, 10475, 28725, 579, 478, 927, 298, 13750, 272, 1759, 395, 264, 1581, 290, 8330, 4336, 14776, 28723, 13, 13, 9169, 2942, 575, 544, 272, 4372, 10475, 28725, 478, 1300, 369, 272, 4714, 4372, 349, 325, 28798, 28731, 28705, 28770, 28734, 28782, 28734, 28734, 319, 28748, 28719, 328, 28723, 415, 4372, 349, 325, 28798, 609], None]\n",
      "[[1, 1183, 3764, 13141, 1122, 1032, 2137, 1070, 3929, 1210, 1227, 6416, 1072, 7406, 12062, 1228, 13001, 1346, 1544, 29491, 3155, 4066, 6510, 1070, 11522, 29493, 20933, 5679, 29510, 6510, 1070, 11522, 1158, 5736, 2235, 29493, 11342, 5772, 1040, 10313, 1070, 5736, 6791, 1070, 9888, 1072, 9580, 29491, 3761, 29493, 1146, 1603, 4937, 5772, 1040, 10313, 1070, 3884, 1056, 3698, 5263, 29493, 1458, 1597, 1115, 3366, 1158, 1032, 2187, 2017, 16937, 1122, 11522, 29491, 9237, 29493, 1032, 2137, 1137, 3774, 2071, 2328, 1070, 1935, 11704, 2427, 1115, 29515, 1358, 12054, 29493, 14475, 29493, 1072, 5576, 18169, 1227, 1066, 4875, 1148, 3698, 5263, 1072, 1358, 6175, 1032, 5736, 6791, 1070, 9888, 29491, 1183, 5140, 1117, 1093, 29525, 29499, 1072, 1093, 29566, 1377], [1, 10973, 4401, 28742, 28713, 2204, 3969, 298, 347, 11640, 23581, 395, 272, 5935, 302, 13383, 10754, 2818, 356, 2930, 4495, 28723, 851, 14657, 4169, 3864, 28725, 481, 1392, 4669, 28725, 304, 27068, 17401, 459, 298, 4107, 380, 2930, 4495, 28723, 8469, 28725, 272, 4372, 349, 325, 28757, 1329, 590, 11286, 28725, 13707, 28725, 304, 4808, 17401, 459, 298, 4107, 380, 2930, 4495, 28723, 415, 4372, 349, 325, 28757, 609], None]\n"
     ]
    }
   ],
   "source": [
    "questions = train_queries[600:620]\n",
    "model_answers = [[train_model_answers_here[index][0], train_model_answers_here[index][1], None] for index in range(len(train_queries[600:620]))]\n",
    "length_models = len(model_answers[0])\n",
    "\n",
    "all_costs = []\n",
    "for i in range(len(questions)):\n",
    "    models_run = ','.join([str(int(model_answers[i][model] is not None)) for model in range(length_models)])\n",
    "    tokenized_question = questions[i]\n",
    "    tokenized_model_answers = [answer[0] if answer is not None else None for answer in model_answers[i]]\n",
    "    if cost_computer.tokenize:\n",
    "        tokenized_question = [cost_computer.tokenizers[model]([questions[i]], padding=False)['input_ids'][0] for model in range(length_models)]\n",
    "        tokenized_model_answers = [\n",
    "            cost_computer.tokenizers[model]([answer[0]], padding=False)['input_ids'][0] if answer is not None else None\n",
    "            for answer, model in zip(model_answers[i], range(length_models))\n",
    "        ]\n",
    "    costs = []\n",
    "    for model in range(length_models):\n",
    "        if cost_computer.constant_cost:\n",
    "            cost = cost_computer.constant_costs[model]\n",
    "            costs.append(cost)\n",
    "            continue\n",
    "        cost = cost_computer.input_costs[model] * len(tokenized_question[model])\n",
    "        if model_answers[i][model] is None:\n",
    "            cost += cost_computer.average_output_cost[model]\n",
    "        else:\n",
    "            cost += cost_computer.output_costs[model] * len(tokenized_model_answers[model])\n",
    "        costs.append(cost)\n",
    "\n",
    "    all_costs.append(costs)"
   ]
  },
  {
   "cell_type": "code",
   "execution_count": 30,
   "metadata": {},
   "outputs": [
    {
     "data": {
      "text/plain": [
       "[[0.0001984, 0.0005147999999999999, 0.0006700828866666666],\n",
       " [0.0002006, 0.0005945999999999999, 0.0008800828866666665],\n",
       " [0.00024159999999999996, 0.0007812, 0.0013468828866666667],\n",
       " [0.00015419999999999998, 0.0005046, 0.0008536828866666666],\n",
       " [0.00020800000000000001, 0.0006516, 0.0010252828866666667],\n",
       " [0.00024419999999999997, 0.0006203999999999999, 0.0007240828866666665],\n",
       " [0.00011699999999999998, 0.00040019999999999997, 0.0005800828866666666],\n",
       " [0.0002014, 0.000531, 0.0009364828866666666],\n",
       " [0.000225, 0.0005184, 0.0006676828866666666],\n",
       " [0.00013059999999999998, 0.00048059999999999997, 0.0006268828866666666],\n",
       " [0.00013759999999999998, 0.00044579999999999994, 0.0007864828866666665],\n",
       " [0.00010599999999999999, 0.00032399999999999996, 0.0005968828866666666],\n",
       " [0.0001254, 0.00041999999999999996, 0.0006664828866666666],\n",
       " [0.0001258, 0.0003804, 0.0006220828866666666],\n",
       " [0.00011679999999999999, 0.00034439999999999997, 0.0006136828866666666],\n",
       " [0.000121, 0.000324, 0.0005620828866666666],\n",
       " [0.0001742, 0.0005034, 0.0008164828866666666],\n",
       " [0.0001802, 0.0005028, 0.0007996828866666665],\n",
       " [0.00022360000000000001, 0.000639, 0.0006760828866666666],\n",
       " [0.00019899999999999999, 0.0005664, 0.0010492828866666666]]"
      ]
     },
     "execution_count": 30,
     "metadata": {},
     "output_type": "execute_result"
    }
   ],
   "source": [
    "all_costs"
   ]
  },
  {
   "cell_type": "code",
   "execution_count": 33,
   "metadata": {},
   "outputs": [
    {
     "data": {
      "text/plain": [
       "array([[0.0001984 , 0.0005148 , 0.00067008],\n",
       "       [0.0002006 , 0.0005946 , 0.00088008],\n",
       "       [0.0002416 , 0.0007812 , 0.00134688],\n",
       "       [0.0001542 , 0.0005046 , 0.00085368],\n",
       "       [0.000208  , 0.0006516 , 0.00102528],\n",
       "       [0.0002442 , 0.0006204 , 0.00072408],\n",
       "       [0.000117  , 0.0004002 , 0.00058008],\n",
       "       [0.0002014 , 0.000531  , 0.00093648],\n",
       "       [0.000225  , 0.0005184 , 0.00066768],\n",
       "       [0.0001306 , 0.0004806 , 0.00062688],\n",
       "       [0.0001376 , 0.0004458 , 0.00078648],\n",
       "       [0.000106  , 0.000324  , 0.00059688],\n",
       "       [0.0001254 , 0.00042   , 0.00066648],\n",
       "       [0.0001258 , 0.0003804 , 0.00062208],\n",
       "       [0.0001168 , 0.0003444 , 0.00061368],\n",
       "       [0.000121  , 0.000324  , 0.00056208],\n",
       "       [0.0001742 , 0.0005034 , 0.00081648],\n",
       "       [0.0001802 , 0.0005028 , 0.00079968],\n",
       "       [0.0002236 , 0.000639  , 0.00067608],\n",
       "       [0.000199  , 0.0005664 , 0.00104928]])"
      ]
     },
     "execution_count": 33,
     "metadata": {},
     "output_type": "execute_result"
    }
   ],
   "source": [
    "all_costs = []\n",
    "for model in range(length_models):\n",
    "    model_answers_this = [model_answers[i][model][0] if model_answers[i][model] is not None else '' for i in range(len(model_answers))]\n",
    "    \n",
    "    costs = []\n",
    "    for i in range(len(questions)):\n",
    "        tokenized_question = cost_computer.tokenizers[model]([questions[i]], padding=False)['input_ids'][0]\n",
    "        tokenized_model_answer = cost_computer.tokenizers[model]([model_answers_this[i]], padding=False)['input_ids'][0]\n",
    "        cost = cost_computer.input_costs[model] * len(tokenized_question)\n",
    "        if model_answers[i][model] is None:\n",
    "            cost += cost_computer.average_output_cost[model]\n",
    "        else:\n",
    "            cost += cost_computer.output_costs[model] * len(tokenized_model_answer)\n",
    "        costs.append(cost)\n",
    "\n",
    "    all_costs.append(costs)\n",
    "\n",
    "np.array(all_costs).T"
   ]
  },
  {
   "cell_type": "code",
   "execution_count": null,
   "metadata": {},
   "outputs": [],
   "source": []
  }
 ],
 "metadata": {
  "kernelspec": {
   "display_name": "selection",
   "language": "python",
   "name": "python3"
  },
  "language_info": {
   "codemirror_mode": {
    "name": "ipython",
    "version": 3
   },
   "file_extension": ".py",
   "mimetype": "text/x-python",
   "name": "python",
   "nbconvert_exporter": "python",
   "pygments_lexer": "ipython3",
   "version": "3.11.9"
  }
 },
 "nbformat": 4,
 "nbformat_minor": 2
}
